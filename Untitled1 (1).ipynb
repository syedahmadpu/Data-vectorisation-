{
 "cells": [
  {
   "cell_type": "code",
   "execution_count": 1,
   "metadata": {
    "colab": {
     "base_uri": "https://localhost:8080/",
     "height": 34
    },
    "colab_type": "code",
    "executionInfo": {
     "elapsed": 884,
     "status": "ok",
     "timestamp": 1564972886057,
     "user": {
      "displayName": "Manish Kumar",
      "photoUrl": "",
      "userId": "14491006042092619867"
     },
     "user_tz": -330
    },
    "id": "04WHqR5hzvRh",
    "outputId": "e28ede4b-bc4d-49d8-e766-b301b975e481"
   },
   "outputs": [
    {
     "name": "stdout",
     "output_type": "stream",
     "text": [
      "Drive already mounted at /content/drive; to attempt to forcibly remount, call drive.mount(\"/content/drive\", force_remount=True).\n"
     ]
    }
   ],
   "source": [
    "from google.colab import drive\n",
    "drive.mount('/content/drive')"
   ]
  },
  {
   "cell_type": "code",
   "execution_count": 0,
   "metadata": {
    "colab": {},
    "colab_type": "code",
    "id": "NpoLRpALOyLE"
   },
   "outputs": [],
   "source": [
    "import numpy as np\n",
    "import pandas as pd\n",
    "import re\n",
    "import matplotlib.pyplot as plt\n",
    "from nltk.corpus import stopwords\n",
    "from nltk.corpus import stopwords\n",
    "from nltk.tokenize import word_tokenize\n",
    "\n",
    "\n",
    "from sklearn.model_selection import train_test_split\n",
    "from keras.preprocessing.text import Tokenizer\n",
    "from keras.models import Sequential\n",
    "from keras.layers import Dense, Dropout, Activation, LSTM\n",
    "from keras.layers.embeddings import Embedding\n",
    "from keras.utils import np_utils\n",
    "from keras.preprocessing import sequence\n",
    "from gensim.models import Word2Vec, KeyedVectors, word2vec\n",
    "import gensim\n",
    "from gensim.utils import simple_preprocess\n",
    "from keras.utils import to_categorical\n",
    "import pickle\n",
    "import h5py\n",
    "from time import time\n"
   ]
  },
  {
   "cell_type": "code",
   "execution_count": 5,
   "metadata": {
    "colab": {
     "base_uri": "https://localhost:8080/",
     "height": 136
    },
    "colab_type": "code",
    "executionInfo": {
     "elapsed": 3251,
     "status": "ok",
     "timestamp": 1564972900924,
     "user": {
      "displayName": "Manish Kumar",
      "photoUrl": "",
      "userId": "14491006042092619867"
     },
     "user_tz": -330
    },
    "id": "a8T9Ls4PTniq",
    "outputId": "f5b1e6ea-30e4-45db-f373-dbdeff59bac9"
   },
   "outputs": [
    {
     "name": "stdout",
     "output_type": "stream",
     "text": [
      "data\n",
      "data.csv\n",
      "nkjp.txt\n",
      "Round1_Problem1-of-2_Dataset_amazon_cells_labelled.txt\n",
      "Round1_Problem1-of-2_Dataset_imdb_labelled.txt\n",
      "Round1_Problem1-of-2_Problem.pdf\n",
      "Untitled1.ipynb\n"
     ]
    }
   ],
   "source": [
    "!ls '/content/drive/My Drive/Language_1'"
   ]
  },
  {
   "cell_type": "code",
   "execution_count": 0,
   "metadata": {
    "colab": {},
    "colab_type": "code",
    "id": "jp0lOsiROyLP"
   },
   "outputs": [],
   "source": [
    "#Amazon Data\n",
    "input_file = \"/content/drive/My Drive/Language_1/Round1_Problem1-of-2_Dataset_amazon_cells_labelled.txt\"\n",
    "amazon = pd.read_csv(input_file,delimiter='\\t',header=None)\n",
    "amazon.columns = ['Text','Sentiment']\n",
    "\n",
    "#Imdb Data\n",
    "input_file = \"/content/drive/My Drive/Language_1/Round1_Problem1-of-2_Dataset_imdb_labelled.txt\"\n",
    "imdb = pd.read_csv(input_file,delimiter='\\t',header=None)\n",
    "imdb.columns = ['Text','Sentiment']\n"
   ]
  },
  {
   "cell_type": "code",
   "execution_count": 0,
   "metadata": {
    "colab": {},
    "colab_type": "code",
    "id": "i-APtYfrOyLX"
   },
   "outputs": [],
   "source": [
    "#combine all data sets\n",
    "data = pd.DataFrame()\n",
    "data = pd.concat([amazon, imdb])\n",
    "data['index'] = data.index"
   ]
  },
  {
   "cell_type": "code",
   "execution_count": 8,
   "metadata": {
    "colab": {
     "base_uri": "https://localhost:8080/",
     "height": 34
    },
    "colab_type": "code",
    "executionInfo": {
     "elapsed": 957,
     "status": "ok",
     "timestamp": 1564972902588,
     "user": {
      "displayName": "Manish Kumar",
      "photoUrl": "",
      "userId": "14491006042092619867"
     },
     "user_tz": -330
    },
    "id": "VT7GBdb7OyLf",
    "outputId": "4f2213a8-3978-4a4c-9f72-13fa495f04f9"
   },
   "outputs": [
    {
     "data": {
      "text/plain": [
       "(1748, 3)"
      ]
     },
     "execution_count": 8,
     "metadata": {
      "tags": []
     },
     "output_type": "execute_result"
    }
   ],
   "source": [
    "data.shape"
   ]
  },
  {
   "cell_type": "code",
   "execution_count": 9,
   "metadata": {
    "colab": {
     "base_uri": "https://localhost:8080/",
     "height": 204
    },
    "colab_type": "code",
    "executionInfo": {
     "elapsed": 578,
     "status": "ok",
     "timestamp": 1564972903075,
     "user": {
      "displayName": "Manish Kumar",
      "photoUrl": "",
      "userId": "14491006042092619867"
     },
     "user_tz": -330
    },
    "id": "cJ9m4yotOyLq",
    "outputId": "dc670294-325e-410d-a8d7-9eab21304107"
   },
   "outputs": [
    {
     "data": {
      "text/html": [
       "<div>\n",
       "<style scoped>\n",
       "    .dataframe tbody tr th:only-of-type {\n",
       "        vertical-align: middle;\n",
       "    }\n",
       "\n",
       "    .dataframe tbody tr th {\n",
       "        vertical-align: top;\n",
       "    }\n",
       "\n",
       "    .dataframe thead th {\n",
       "        text-align: right;\n",
       "    }\n",
       "</style>\n",
       "<table border=\"1\" class=\"dataframe\">\n",
       "  <thead>\n",
       "    <tr style=\"text-align: right;\">\n",
       "      <th></th>\n",
       "      <th>Text</th>\n",
       "      <th>Sentiment</th>\n",
       "      <th>index</th>\n",
       "    </tr>\n",
       "  </thead>\n",
       "  <tbody>\n",
       "    <tr>\n",
       "      <th>0</th>\n",
       "      <td>So there is no way for me to plug it in here i...</td>\n",
       "      <td>0</td>\n",
       "      <td>0</td>\n",
       "    </tr>\n",
       "    <tr>\n",
       "      <th>1</th>\n",
       "      <td>Good case, Excellent value.</td>\n",
       "      <td>1</td>\n",
       "      <td>1</td>\n",
       "    </tr>\n",
       "    <tr>\n",
       "      <th>2</th>\n",
       "      <td>Great for the jawbone.</td>\n",
       "      <td>1</td>\n",
       "      <td>2</td>\n",
       "    </tr>\n",
       "    <tr>\n",
       "      <th>3</th>\n",
       "      <td>Tied to charger for conversations lasting more...</td>\n",
       "      <td>0</td>\n",
       "      <td>3</td>\n",
       "    </tr>\n",
       "    <tr>\n",
       "      <th>4</th>\n",
       "      <td>The mic is great.</td>\n",
       "      <td>1</td>\n",
       "      <td>4</td>\n",
       "    </tr>\n",
       "  </tbody>\n",
       "</table>\n",
       "</div>"
      ],
      "text/plain": [
       "                                                Text  Sentiment  index\n",
       "0  So there is no way for me to plug it in here i...          0      0\n",
       "1                        Good case, Excellent value.          1      1\n",
       "2                             Great for the jawbone.          1      2\n",
       "3  Tied to charger for conversations lasting more...          0      3\n",
       "4                                  The mic is great.          1      4"
      ]
     },
     "execution_count": 9,
     "metadata": {
      "tags": []
     },
     "output_type": "execute_result"
    }
   ],
   "source": [
    "data.head()"
   ]
  },
  {
   "cell_type": "code",
   "execution_count": 0,
   "metadata": {
    "colab": {},
    "colab_type": "code",
    "id": "-IRivRoxOyL0"
   },
   "outputs": [],
   "source": [
    "#Text Preprocessing\n",
    "columns = ['index','Sentiment', 'Text']\n",
    "df_ = pd.DataFrame(columns=columns)\n",
    "df_ = data"
   ]
  },
  {
   "cell_type": "code",
   "execution_count": 11,
   "metadata": {
    "colab": {
     "base_uri": "https://localhost:8080/",
     "height": 204
    },
    "colab_type": "code",
    "executionInfo": {
     "elapsed": 569,
     "status": "ok",
     "timestamp": 1564972906236,
     "user": {
      "displayName": "Manish Kumar",
      "photoUrl": "",
      "userId": "14491006042092619867"
     },
     "user_tz": -330
    },
    "id": "xypqffAxOyL8",
    "outputId": "d5a1ff73-6680-4191-8224-04a2c030efcd"
   },
   "outputs": [
    {
     "data": {
      "text/html": [
       "<div>\n",
       "<style scoped>\n",
       "    .dataframe tbody tr th:only-of-type {\n",
       "        vertical-align: middle;\n",
       "    }\n",
       "\n",
       "    .dataframe tbody tr th {\n",
       "        vertical-align: top;\n",
       "    }\n",
       "\n",
       "    .dataframe thead th {\n",
       "        text-align: right;\n",
       "    }\n",
       "</style>\n",
       "<table border=\"1\" class=\"dataframe\">\n",
       "  <thead>\n",
       "    <tr style=\"text-align: right;\">\n",
       "      <th></th>\n",
       "      <th>Text</th>\n",
       "      <th>Sentiment</th>\n",
       "      <th>index</th>\n",
       "    </tr>\n",
       "  </thead>\n",
       "  <tbody>\n",
       "    <tr>\n",
       "      <th>0</th>\n",
       "      <td>So there is no way for me to plug it in here i...</td>\n",
       "      <td>0</td>\n",
       "      <td>0</td>\n",
       "    </tr>\n",
       "    <tr>\n",
       "      <th>1</th>\n",
       "      <td>Good case, Excellent value.</td>\n",
       "      <td>1</td>\n",
       "      <td>1</td>\n",
       "    </tr>\n",
       "    <tr>\n",
       "      <th>2</th>\n",
       "      <td>Great for the jawbone.</td>\n",
       "      <td>1</td>\n",
       "      <td>2</td>\n",
       "    </tr>\n",
       "    <tr>\n",
       "      <th>3</th>\n",
       "      <td>Tied to charger for conversations lasting more...</td>\n",
       "      <td>0</td>\n",
       "      <td>3</td>\n",
       "    </tr>\n",
       "    <tr>\n",
       "      <th>4</th>\n",
       "      <td>The mic is great.</td>\n",
       "      <td>1</td>\n",
       "      <td>4</td>\n",
       "    </tr>\n",
       "  </tbody>\n",
       "</table>\n",
       "</div>"
      ],
      "text/plain": [
       "                                                Text  Sentiment  index\n",
       "0  So there is no way for me to plug it in here i...          0      0\n",
       "1                        Good case, Excellent value.          1      1\n",
       "2                             Great for the jawbone.          1      2\n",
       "3  Tied to charger for conversations lasting more...          0      3\n",
       "4                                  The mic is great.          1      4"
      ]
     },
     "execution_count": 11,
     "metadata": {
      "tags": []
     },
     "output_type": "execute_result"
    }
   ],
   "source": [
    "data.head()\n"
   ]
  },
  {
   "cell_type": "code",
   "execution_count": 12,
   "metadata": {
    "colab": {
     "base_uri": "https://localhost:8080/",
     "height": 204
    },
    "colab_type": "code",
    "executionInfo": {
     "elapsed": 920,
     "status": "ok",
     "timestamp": 1564972907441,
     "user": {
      "displayName": "Manish Kumar",
      "photoUrl": "",
      "userId": "14491006042092619867"
     },
     "user_tz": -330
    },
    "id": "x-RDnPfNOyME",
    "outputId": "f1a1c41e-4e36-480e-d0dc-4040192aa849"
   },
   "outputs": [
    {
     "data": {
      "text/html": [
       "<div>\n",
       "<style scoped>\n",
       "    .dataframe tbody tr th:only-of-type {\n",
       "        vertical-align: middle;\n",
       "    }\n",
       "\n",
       "    .dataframe tbody tr th {\n",
       "        vertical-align: top;\n",
       "    }\n",
       "\n",
       "    .dataframe thead th {\n",
       "        text-align: right;\n",
       "    }\n",
       "</style>\n",
       "<table border=\"1\" class=\"dataframe\">\n",
       "  <thead>\n",
       "    <tr style=\"text-align: right;\">\n",
       "      <th></th>\n",
       "      <th>Text</th>\n",
       "      <th>Sentiment</th>\n",
       "      <th>index</th>\n",
       "    </tr>\n",
       "  </thead>\n",
       "  <tbody>\n",
       "    <tr>\n",
       "      <th>0</th>\n",
       "      <td>so there is no way for me to plug it in here i...</td>\n",
       "      <td>0</td>\n",
       "      <td>0</td>\n",
       "    </tr>\n",
       "    <tr>\n",
       "      <th>1</th>\n",
       "      <td>good case, excellent value.</td>\n",
       "      <td>1</td>\n",
       "      <td>1</td>\n",
       "    </tr>\n",
       "    <tr>\n",
       "      <th>2</th>\n",
       "      <td>great for the jawbone.</td>\n",
       "      <td>1</td>\n",
       "      <td>2</td>\n",
       "    </tr>\n",
       "    <tr>\n",
       "      <th>3</th>\n",
       "      <td>tied to charger for conversations lasting more...</td>\n",
       "      <td>0</td>\n",
       "      <td>3</td>\n",
       "    </tr>\n",
       "    <tr>\n",
       "      <th>4</th>\n",
       "      <td>the mic is great.</td>\n",
       "      <td>1</td>\n",
       "      <td>4</td>\n",
       "    </tr>\n",
       "  </tbody>\n",
       "</table>\n",
       "</div>"
      ],
      "text/plain": [
       "                                                Text  Sentiment  index\n",
       "0  so there is no way for me to plug it in here i...          0      0\n",
       "1                        good case, excellent value.          1      1\n",
       "2                             great for the jawbone.          1      2\n",
       "3  tied to charger for conversations lasting more...          0      3\n",
       "4                                  the mic is great.          1      4"
      ]
     },
     "execution_count": 12,
     "metadata": {
      "tags": []
     },
     "output_type": "execute_result"
    }
   ],
   "source": [
    "#lower string\n",
    "data['Text'] = data['Text'].str.lower()\n",
    "data.head()"
   ]
  },
  {
   "cell_type": "code",
   "execution_count": 13,
   "metadata": {
    "colab": {
     "base_uri": "https://localhost:8080/",
     "height": 204
    },
    "colab_type": "code",
    "executionInfo": {
     "elapsed": 771,
     "status": "ok",
     "timestamp": 1564972908120,
     "user": {
      "displayName": "Manish Kumar",
      "photoUrl": "",
      "userId": "14491006042092619867"
     },
     "user_tz": -330
    },
    "id": "1D9X9v95OyMN",
    "outputId": "65022dea-261e-4787-81a1-1096c494fca1"
   },
   "outputs": [
    {
     "data": {
      "text/html": [
       "<div>\n",
       "<style scoped>\n",
       "    .dataframe tbody tr th:only-of-type {\n",
       "        vertical-align: middle;\n",
       "    }\n",
       "\n",
       "    .dataframe tbody tr th {\n",
       "        vertical-align: top;\n",
       "    }\n",
       "\n",
       "    .dataframe thead th {\n",
       "        text-align: right;\n",
       "    }\n",
       "</style>\n",
       "<table border=\"1\" class=\"dataframe\">\n",
       "  <thead>\n",
       "    <tr style=\"text-align: right;\">\n",
       "      <th></th>\n",
       "      <th>Text</th>\n",
       "      <th>Sentiment</th>\n",
       "      <th>index</th>\n",
       "    </tr>\n",
       "  </thead>\n",
       "  <tbody>\n",
       "    <tr>\n",
       "      <th>0</th>\n",
       "      <td>so there is no way for me to plug it in here i...</td>\n",
       "      <td>0</td>\n",
       "      <td>0</td>\n",
       "    </tr>\n",
       "    <tr>\n",
       "      <th>1</th>\n",
       "      <td>good case, excellent value.</td>\n",
       "      <td>1</td>\n",
       "      <td>1</td>\n",
       "    </tr>\n",
       "    <tr>\n",
       "      <th>2</th>\n",
       "      <td>great for the jawbone.</td>\n",
       "      <td>1</td>\n",
       "      <td>2</td>\n",
       "    </tr>\n",
       "    <tr>\n",
       "      <th>3</th>\n",
       "      <td>tied to charger for conversations lasting more...</td>\n",
       "      <td>0</td>\n",
       "      <td>3</td>\n",
       "    </tr>\n",
       "    <tr>\n",
       "      <th>4</th>\n",
       "      <td>the mic is great.</td>\n",
       "      <td>1</td>\n",
       "      <td>4</td>\n",
       "    </tr>\n",
       "  </tbody>\n",
       "</table>\n",
       "</div>"
      ],
      "text/plain": [
       "                                                Text  Sentiment  index\n",
       "0  so there is no way for me to plug it in here i...          0      0\n",
       "1                        good case, excellent value.          1      1\n",
       "2                             great for the jawbone.          1      2\n",
       "3  tied to charger for conversations lasting more...          0      3\n",
       "4                                  the mic is great.          1      4"
      ]
     },
     "execution_count": 13,
     "metadata": {
      "tags": []
     },
     "output_type": "execute_result"
    }
   ],
   "source": [
    "#remove email adress\n",
    "data['Text'] = data['Text'].replace('[a-zA-Z0-9-_.]+@[a-zA-Z0-9-_.]+', '', regex=True)\n",
    "data.head()"
   ]
  },
  {
   "cell_type": "code",
   "execution_count": 14,
   "metadata": {
    "colab": {
     "base_uri": "https://localhost:8080/",
     "height": 204
    },
    "colab_type": "code",
    "executionInfo": {
     "elapsed": 724,
     "status": "ok",
     "timestamp": 1564972909266,
     "user": {
      "displayName": "Manish Kumar",
      "photoUrl": "",
      "userId": "14491006042092619867"
     },
     "user_tz": -330
    },
    "id": "4N6iMSs3OyMV",
    "outputId": "128d2572-e28f-4d0b-9cbc-c6431d2e0ae8"
   },
   "outputs": [
    {
     "data": {
      "text/html": [
       "<div>\n",
       "<style scoped>\n",
       "    .dataframe tbody tr th:only-of-type {\n",
       "        vertical-align: middle;\n",
       "    }\n",
       "\n",
       "    .dataframe tbody tr th {\n",
       "        vertical-align: top;\n",
       "    }\n",
       "\n",
       "    .dataframe thead th {\n",
       "        text-align: right;\n",
       "    }\n",
       "</style>\n",
       "<table border=\"1\" class=\"dataframe\">\n",
       "  <thead>\n",
       "    <tr style=\"text-align: right;\">\n",
       "      <th></th>\n",
       "      <th>Text</th>\n",
       "      <th>Sentiment</th>\n",
       "      <th>index</th>\n",
       "    </tr>\n",
       "  </thead>\n",
       "  <tbody>\n",
       "    <tr>\n",
       "      <th>0</th>\n",
       "      <td>so there is no way for me to plug it in here i...</td>\n",
       "      <td>0</td>\n",
       "      <td>0</td>\n",
       "    </tr>\n",
       "    <tr>\n",
       "      <th>1</th>\n",
       "      <td>good case, excellent value.</td>\n",
       "      <td>1</td>\n",
       "      <td>1</td>\n",
       "    </tr>\n",
       "    <tr>\n",
       "      <th>2</th>\n",
       "      <td>great for the jawbone.</td>\n",
       "      <td>1</td>\n",
       "      <td>2</td>\n",
       "    </tr>\n",
       "    <tr>\n",
       "      <th>3</th>\n",
       "      <td>tied to charger for conversations lasting more...</td>\n",
       "      <td>0</td>\n",
       "      <td>3</td>\n",
       "    </tr>\n",
       "    <tr>\n",
       "      <th>4</th>\n",
       "      <td>the mic is great.</td>\n",
       "      <td>1</td>\n",
       "      <td>4</td>\n",
       "    </tr>\n",
       "  </tbody>\n",
       "</table>\n",
       "</div>"
      ],
      "text/plain": [
       "                                                Text  Sentiment  index\n",
       "0  so there is no way for me to plug it in here i...          0      0\n",
       "1                        good case, excellent value.          1      1\n",
       "2                             great for the jawbone.          1      2\n",
       "3  tied to charger for conversations lasting more...          0      3\n",
       "4                                  the mic is great.          1      4"
      ]
     },
     "execution_count": 14,
     "metadata": {
      "tags": []
     },
     "output_type": "execute_result"
    }
   ],
   "source": [
    "#Remove all website links from the data of for www.xyz.com\n",
    "data['Text'] = data['Text'].replace(r'http\\S+', '', regex=True).replace(r'www\\S+', '', regex=True)\n",
    "data.head()"
   ]
  },
  {
   "cell_type": "code",
   "execution_count": 15,
   "metadata": {
    "colab": {
     "base_uri": "https://localhost:8080/",
     "height": 204
    },
    "colab_type": "code",
    "executionInfo": {
     "elapsed": 749,
     "status": "ok",
     "timestamp": 1564972911124,
     "user": {
      "displayName": "Manish Kumar",
      "photoUrl": "",
      "userId": "14491006042092619867"
     },
     "user_tz": -330
    },
    "id": "d6Li9XNFOyMf",
    "outputId": "4c71e8d6-8afd-4b1d-d67f-7afb74932344"
   },
   "outputs": [
    {
     "data": {
      "text/html": [
       "<div>\n",
       "<style scoped>\n",
       "    .dataframe tbody tr th:only-of-type {\n",
       "        vertical-align: middle;\n",
       "    }\n",
       "\n",
       "    .dataframe tbody tr th {\n",
       "        vertical-align: top;\n",
       "    }\n",
       "\n",
       "    .dataframe thead th {\n",
       "        text-align: right;\n",
       "    }\n",
       "</style>\n",
       "<table border=\"1\" class=\"dataframe\">\n",
       "  <thead>\n",
       "    <tr style=\"text-align: right;\">\n",
       "      <th></th>\n",
       "      <th>Text</th>\n",
       "      <th>Sentiment</th>\n",
       "      <th>index</th>\n",
       "    </tr>\n",
       "  </thead>\n",
       "  <tbody>\n",
       "    <tr>\n",
       "      <th>0</th>\n",
       "      <td>so there is no way for me to plug it in here i...</td>\n",
       "      <td>0</td>\n",
       "      <td>0</td>\n",
       "    </tr>\n",
       "    <tr>\n",
       "      <th>1</th>\n",
       "      <td>good case, excellent value.</td>\n",
       "      <td>1</td>\n",
       "      <td>1</td>\n",
       "    </tr>\n",
       "    <tr>\n",
       "      <th>2</th>\n",
       "      <td>great for the jawbone.</td>\n",
       "      <td>1</td>\n",
       "      <td>2</td>\n",
       "    </tr>\n",
       "    <tr>\n",
       "      <th>3</th>\n",
       "      <td>tied to charger for conversations lasting more...</td>\n",
       "      <td>0</td>\n",
       "      <td>3</td>\n",
       "    </tr>\n",
       "    <tr>\n",
       "      <th>4</th>\n",
       "      <td>the mic is great.</td>\n",
       "      <td>1</td>\n",
       "      <td>4</td>\n",
       "    </tr>\n",
       "  </tbody>\n",
       "</table>\n",
       "</div>"
      ],
      "text/plain": [
       "                                                Text  Sentiment  index\n",
       "0  so there is no way for me to plug it in here i...          0      0\n",
       "1                        good case, excellent value.          1      1\n",
       "2                             great for the jawbone.          1      2\n",
       "3  tied to charger for conversations lasting more...          0      3\n",
       "4                                  the mic is great.          1      4"
      ]
     },
     "execution_count": 15,
     "metadata": {
      "tags": []
     },
     "output_type": "execute_result"
    }
   ],
   "source": [
    "#Convert major emoticons to their respective emotions\n",
    "#data[\"Text\"].replace(':)', 'happy',regex=True).replace(':(r','sad', regex=True).replace(r':D', 'laugh', regex=True)\n",
    "#data.head()\n",
    "data['Text'] = data['Text'].replace('\\U0001f600', 'happy', regex = True)\n",
    "data.head()"
   ]
  },
  {
   "cell_type": "code",
   "execution_count": 16,
   "metadata": {
    "colab": {
     "base_uri": "https://localhost:8080/",
     "height": 204
    },
    "colab_type": "code",
    "executionInfo": {
     "elapsed": 689,
     "status": "ok",
     "timestamp": 1564972913158,
     "user": {
      "displayName": "Manish Kumar",
      "photoUrl": "",
      "userId": "14491006042092619867"
     },
     "user_tz": -330
    },
    "id": "ZzZzHzqNOyMz",
    "outputId": "df519407-278d-425a-eb17-d11b600dbd25"
   },
   "outputs": [
    {
     "data": {
      "text/html": [
       "<div>\n",
       "<style scoped>\n",
       "    .dataframe tbody tr th:only-of-type {\n",
       "        vertical-align: middle;\n",
       "    }\n",
       "\n",
       "    .dataframe tbody tr th {\n",
       "        vertical-align: top;\n",
       "    }\n",
       "\n",
       "    .dataframe thead th {\n",
       "        text-align: right;\n",
       "    }\n",
       "</style>\n",
       "<table border=\"1\" class=\"dataframe\">\n",
       "  <thead>\n",
       "    <tr style=\"text-align: right;\">\n",
       "      <th></th>\n",
       "      <th>Text</th>\n",
       "      <th>Sentiment</th>\n",
       "      <th>index</th>\n",
       "    </tr>\n",
       "  </thead>\n",
       "  <tbody>\n",
       "    <tr>\n",
       "      <th>0</th>\n",
       "      <td>so there is no way for me to plug it in here i...</td>\n",
       "      <td>0</td>\n",
       "      <td>0</td>\n",
       "    </tr>\n",
       "    <tr>\n",
       "      <th>1</th>\n",
       "      <td>good case excellent value</td>\n",
       "      <td>1</td>\n",
       "      <td>1</td>\n",
       "    </tr>\n",
       "    <tr>\n",
       "      <th>2</th>\n",
       "      <td>great for the jawbone</td>\n",
       "      <td>1</td>\n",
       "      <td>2</td>\n",
       "    </tr>\n",
       "    <tr>\n",
       "      <th>3</th>\n",
       "      <td>tied to charger for conversations lasting more...</td>\n",
       "      <td>0</td>\n",
       "      <td>3</td>\n",
       "    </tr>\n",
       "    <tr>\n",
       "      <th>4</th>\n",
       "      <td>the mic is great</td>\n",
       "      <td>1</td>\n",
       "      <td>4</td>\n",
       "    </tr>\n",
       "  </tbody>\n",
       "</table>\n",
       "</div>"
      ],
      "text/plain": [
       "                                                Text  Sentiment  index\n",
       "0  so there is no way for me to plug it in here i...          0      0\n",
       "1                          good case excellent value          1      1\n",
       "2                              great for the jawbone          1      2\n",
       "3  tied to charger for conversations lasting more...          0      3\n",
       "4                                   the mic is great          1      4"
      ]
     },
     "execution_count": 16,
     "metadata": {
      "tags": []
     },
     "output_type": "execute_result"
    }
   ],
   "source": [
    "#remove punctaitions and special chracters\n",
    "data['Text'] = data['Text'].str.replace('[^\\w\\s]','')\n",
    "data.head()"
   ]
  },
  {
   "cell_type": "code",
   "execution_count": 17,
   "metadata": {
    "colab": {
     "base_uri": "https://localhost:8080/",
     "height": 204
    },
    "colab_type": "code",
    "executionInfo": {
     "elapsed": 589,
     "status": "ok",
     "timestamp": 1564972914437,
     "user": {
      "displayName": "Manish Kumar",
      "photoUrl": "",
      "userId": "14491006042092619867"
     },
     "user_tz": -330
    },
    "id": "vCHD9tQVOyM6",
    "outputId": "50156136-45bf-4abc-ab2a-d52754fb7fd4"
   },
   "outputs": [
    {
     "data": {
      "text/html": [
       "<div>\n",
       "<style scoped>\n",
       "    .dataframe tbody tr th:only-of-type {\n",
       "        vertical-align: middle;\n",
       "    }\n",
       "\n",
       "    .dataframe tbody tr th {\n",
       "        vertical-align: top;\n",
       "    }\n",
       "\n",
       "    .dataframe thead th {\n",
       "        text-align: right;\n",
       "    }\n",
       "</style>\n",
       "<table border=\"1\" class=\"dataframe\">\n",
       "  <thead>\n",
       "    <tr style=\"text-align: right;\">\n",
       "      <th></th>\n",
       "      <th>Text</th>\n",
       "      <th>Sentiment</th>\n",
       "      <th>index</th>\n",
       "    </tr>\n",
       "  </thead>\n",
       "  <tbody>\n",
       "    <tr>\n",
       "      <th>0</th>\n",
       "      <td>so there is no way for me to plug it in here i...</td>\n",
       "      <td>0</td>\n",
       "      <td>0</td>\n",
       "    </tr>\n",
       "    <tr>\n",
       "      <th>1</th>\n",
       "      <td>good case excellent value</td>\n",
       "      <td>1</td>\n",
       "      <td>1</td>\n",
       "    </tr>\n",
       "    <tr>\n",
       "      <th>2</th>\n",
       "      <td>great for the jawbone</td>\n",
       "      <td>1</td>\n",
       "      <td>2</td>\n",
       "    </tr>\n",
       "    <tr>\n",
       "      <th>3</th>\n",
       "      <td>tied to charger for conversations lasting more...</td>\n",
       "      <td>0</td>\n",
       "      <td>3</td>\n",
       "    </tr>\n",
       "    <tr>\n",
       "      <th>4</th>\n",
       "      <td>the mic is great</td>\n",
       "      <td>1</td>\n",
       "      <td>4</td>\n",
       "    </tr>\n",
       "  </tbody>\n",
       "</table>\n",
       "</div>"
      ],
      "text/plain": [
       "                                                Text  Sentiment  index\n",
       "0  so there is no way for me to plug it in here i...          0      0\n",
       "1                          good case excellent value          1      1\n",
       "2                              great for the jawbone          1      2\n",
       "3  tied to charger for conversations lasting more...          0      3\n",
       "4                                   the mic is great          1      4"
      ]
     },
     "execution_count": 17,
     "metadata": {
      "tags": []
     },
     "output_type": "execute_result"
    }
   ],
   "source": [
    "#remove numbers\n",
    "data['Text'] = data['Text'].replace('\\d', '', regex=True)\n",
    "data.head()"
   ]
  },
  {
   "cell_type": "code",
   "execution_count": 19,
   "metadata": {
    "colab": {
     "base_uri": "https://localhost:8080/",
     "height": 204
    },
    "colab_type": "code",
    "executionInfo": {
     "elapsed": 8000,
     "status": "ok",
     "timestamp": 1564972973645,
     "user": {
      "displayName": "Manish Kumar",
      "photoUrl": "",
      "userId": "14491006042092619867"
     },
     "user_tz": -330
    },
    "id": "zJbOsvTjpeIM",
    "outputId": "6469e9cb-9215-4816-ab93-8e4e94b1d836"
   },
   "outputs": [
    {
     "data": {
      "text/html": [
       "<div>\n",
       "<style scoped>\n",
       "    .dataframe tbody tr th:only-of-type {\n",
       "        vertical-align: middle;\n",
       "    }\n",
       "\n",
       "    .dataframe tbody tr th {\n",
       "        vertical-align: top;\n",
       "    }\n",
       "\n",
       "    .dataframe thead th {\n",
       "        text-align: right;\n",
       "    }\n",
       "</style>\n",
       "<table border=\"1\" class=\"dataframe\">\n",
       "  <thead>\n",
       "    <tr style=\"text-align: right;\">\n",
       "      <th></th>\n",
       "      <th>Text</th>\n",
       "      <th>Sentiment</th>\n",
       "      <th>index</th>\n",
       "    </tr>\n",
       "  </thead>\n",
       "  <tbody>\n",
       "    <tr>\n",
       "      <th>0</th>\n",
       "      <td>so there is no way for me to plug it in here i...</td>\n",
       "      <td>0</td>\n",
       "      <td>0</td>\n",
       "    </tr>\n",
       "    <tr>\n",
       "      <th>1</th>\n",
       "      <td>good case excellent value</td>\n",
       "      <td>1</td>\n",
       "      <td>1</td>\n",
       "    </tr>\n",
       "    <tr>\n",
       "      <th>2</th>\n",
       "      <td>great for the jawbone</td>\n",
       "      <td>1</td>\n",
       "      <td>2</td>\n",
       "    </tr>\n",
       "    <tr>\n",
       "      <th>3</th>\n",
       "      <td>tied to charger for conversations lasting more...</td>\n",
       "      <td>0</td>\n",
       "      <td>3</td>\n",
       "    </tr>\n",
       "    <tr>\n",
       "      <th>4</th>\n",
       "      <td>the mic is great</td>\n",
       "      <td>1</td>\n",
       "      <td>4</td>\n",
       "    </tr>\n",
       "  </tbody>\n",
       "</table>\n",
       "</div>"
      ],
      "text/plain": [
       "                                                Text  Sentiment  index\n",
       "0  so there is no way for me to plug it in here i...          0      0\n",
       "1                          good case excellent value          1      1\n",
       "2                              great for the jawbone          1      2\n",
       "3  tied to charger for conversations lasting more...          0      3\n",
       "4                                   the mic is great          1      4"
      ]
     },
     "execution_count": 19,
     "metadata": {
      "tags": []
     },
     "output_type": "execute_result"
    }
   ],
   "source": [
    "#Remove major stopwords.\n",
    "for index, row in data.iterrows():\n",
    "    word_tokens = word_tokenize(row['Text'])\n",
    "    filtered_sentence = [w for w in word_tokens if not w in stopwords.words('english')]\n",
    "    df_ = df_.append({\"index\": row['index'], \"Sentiment\":  row['Sentiment'],\"Text\": \" \".join(filtered_sentence[0:])}, ignore_index=True)\n",
    "data = df_\n",
    "data.head()"
   ]
  },
  {
   "cell_type": "code",
   "execution_count": 0,
   "metadata": {
    "colab": {},
    "colab_type": "code",
    "id": "Czuxy97lqh-0"
   },
   "outputs": [],
   "source": [
    "df = pd.DataFrame(data) \n",
    "  \n",
    "df.to_csv('data.csv')"
   ]
  },
  {
   "cell_type": "code",
   "execution_count": 20,
   "metadata": {
    "colab": {
     "base_uri": "https://localhost:8080/",
     "height": 788
    },
    "colab_type": "code",
    "executionInfo": {
     "elapsed": 387901,
     "status": "ok",
     "timestamp": 1564973429204,
     "user": {
      "displayName": "Manish Kumar",
      "photoUrl": "",
      "userId": "14491006042092619867"
     },
     "user_tz": -330
    },
    "id": "UedBx5deOyNZ",
    "outputId": "a38112ec-3318-4264-beaa-c24aa13dfe5f"
   },
   "outputs": [
    {
     "name": "stdout",
     "output_type": "stream",
     "text": [
      "[nltk_data] Downloading package wordnet to /root/nltk_data...\n",
      "[nltk_data]   Package wordnet is already up-to-date!\n"
     ]
    },
    {
     "name": "stderr",
     "output_type": "stream",
     "text": [
      "/usr/local/lib/python3.6/dist-packages/ipykernel_launcher.py:14: SettingWithCopyWarning: \n",
      "A value is trying to be set on a copy of a slice from a DataFrame\n",
      "\n",
      "See the caveats in the documentation: http://pandas.pydata.org/pandas-docs/stable/indexing.html#indexing-view-versus-copy\n",
      "  \n"
     ]
    },
    {
     "data": {
      "text/html": [
       "<div>\n",
       "<style scoped>\n",
       "    .dataframe tbody tr th:only-of-type {\n",
       "        vertical-align: middle;\n",
       "    }\n",
       "\n",
       "    .dataframe tbody tr th {\n",
       "        vertical-align: top;\n",
       "    }\n",
       "\n",
       "    .dataframe thead th {\n",
       "        text-align: right;\n",
       "    }\n",
       "</style>\n",
       "<table border=\"1\" class=\"dataframe\">\n",
       "  <thead>\n",
       "    <tr style=\"text-align: right;\">\n",
       "      <th></th>\n",
       "      <th>Text</th>\n",
       "      <th>Sentiment</th>\n",
       "      <th>index</th>\n",
       "    </tr>\n",
       "  </thead>\n",
       "  <tbody>\n",
       "    <tr>\n",
       "      <th>0</th>\n",
       "      <td>so there is no way for me to plug it in here i...</td>\n",
       "      <td>0</td>\n",
       "      <td>0</td>\n",
       "    </tr>\n",
       "    <tr>\n",
       "      <th>1</th>\n",
       "      <td>good case excellent value</td>\n",
       "      <td>1</td>\n",
       "      <td>1</td>\n",
       "    </tr>\n",
       "    <tr>\n",
       "      <th>2</th>\n",
       "      <td>great for the jawbone</td>\n",
       "      <td>1</td>\n",
       "      <td>2</td>\n",
       "    </tr>\n",
       "    <tr>\n",
       "      <th>3</th>\n",
       "      <td>tied to charger for conversation lasting more ...</td>\n",
       "      <td>0</td>\n",
       "      <td>3</td>\n",
       "    </tr>\n",
       "    <tr>\n",
       "      <th>4</th>\n",
       "      <td>the mic is great</td>\n",
       "      <td>1</td>\n",
       "      <td>4</td>\n",
       "    </tr>\n",
       "    <tr>\n",
       "      <th>5</th>\n",
       "      <td>i have to jiggle the plug to get it to line up...</td>\n",
       "      <td>0</td>\n",
       "      <td>5</td>\n",
       "    </tr>\n",
       "    <tr>\n",
       "      <th>6</th>\n",
       "      <td>if you have several dozen or several hundred c...</td>\n",
       "      <td>0</td>\n",
       "      <td>6</td>\n",
       "    </tr>\n",
       "    <tr>\n",
       "      <th>7</th>\n",
       "      <td>if you are razr owneryou must have this</td>\n",
       "      <td>1</td>\n",
       "      <td>7</td>\n",
       "    </tr>\n",
       "    <tr>\n",
       "      <th>8</th>\n",
       "      <td>needle to say i wasted my money</td>\n",
       "      <td>0</td>\n",
       "      <td>8</td>\n",
       "    </tr>\n",
       "    <tr>\n",
       "      <th>9</th>\n",
       "      <td>what a waste of money and time</td>\n",
       "      <td>0</td>\n",
       "      <td>9</td>\n",
       "    </tr>\n",
       "    <tr>\n",
       "      <th>10</th>\n",
       "      <td>and the sound quality is great</td>\n",
       "      <td>1</td>\n",
       "      <td>10</td>\n",
       "    </tr>\n",
       "    <tr>\n",
       "      <th>11</th>\n",
       "      <td>he wa very impressed when going from the origi...</td>\n",
       "      <td>1</td>\n",
       "      <td>11</td>\n",
       "    </tr>\n",
       "    <tr>\n",
       "      <th>12</th>\n",
       "      <td>if the two were seperated by a mere  ft i star...</td>\n",
       "      <td>0</td>\n",
       "      <td>12</td>\n",
       "    </tr>\n",
       "    <tr>\n",
       "      <th>13</th>\n",
       "      <td>very good quality though</td>\n",
       "      <td>1</td>\n",
       "      <td>13</td>\n",
       "    </tr>\n",
       "    <tr>\n",
       "      <th>14</th>\n",
       "      <td>the design is very odd a the ear clip is not v...</td>\n",
       "      <td>0</td>\n",
       "      <td>14</td>\n",
       "    </tr>\n",
       "    <tr>\n",
       "      <th>15</th>\n",
       "      <td>highly recommend for any one who ha a blue too...</td>\n",
       "      <td>1</td>\n",
       "      <td>15</td>\n",
       "    </tr>\n",
       "    <tr>\n",
       "      <th>16</th>\n",
       "      <td>i advise everyone do not be fooled</td>\n",
       "      <td>0</td>\n",
       "      <td>16</td>\n",
       "    </tr>\n",
       "    <tr>\n",
       "      <th>17</th>\n",
       "      <td>so far so good</td>\n",
       "      <td>1</td>\n",
       "      <td>17</td>\n",
       "    </tr>\n",
       "    <tr>\n",
       "      <th>18</th>\n",
       "      <td>work great</td>\n",
       "      <td>1</td>\n",
       "      <td>18</td>\n",
       "    </tr>\n",
       "    <tr>\n",
       "      <th>19</th>\n",
       "      <td>it click into place in a way that make you won...</td>\n",
       "      <td>0</td>\n",
       "      <td>19</td>\n",
       "    </tr>\n",
       "  </tbody>\n",
       "</table>\n",
       "</div>"
      ],
      "text/plain": [
       "                                                 Text  Sentiment  index\n",
       "0   so there is no way for me to plug it in here i...          0      0\n",
       "1                           good case excellent value          1      1\n",
       "2                               great for the jawbone          1      2\n",
       "3   tied to charger for conversation lasting more ...          0      3\n",
       "4                                    the mic is great          1      4\n",
       "5   i have to jiggle the plug to get it to line up...          0      5\n",
       "6   if you have several dozen or several hundred c...          0      6\n",
       "7             if you are razr owneryou must have this          1      7\n",
       "8                    needle to say i wasted my money           0      8\n",
       "9                      what a waste of money and time          0      9\n",
       "10                     and the sound quality is great          1     10\n",
       "11  he wa very impressed when going from the origi...          1     11\n",
       "12  if the two were seperated by a mere  ft i star...          0     12\n",
       "13                           very good quality though          1     13\n",
       "14  the design is very odd a the ear clip is not v...          0     14\n",
       "15  highly recommend for any one who ha a blue too...          1     15\n",
       "16                 i advise everyone do not be fooled          0     16\n",
       "17                                     so far so good          1     17\n",
       "18                                        work great           1     18\n",
       "19  it click into place in a way that make you won...          0     19"
      ]
     },
     "execution_count": 20,
     "metadata": {
      "tags": []
     },
     "output_type": "execute_result"
    }
   ],
   "source": [
    "#Lemmatize all the words.\n",
    "import nltk\n",
    "nltk.download('wordnet')\n",
    "from nltk.stem import WordNetLemmatizer\n",
    "wordnet_lemmatizer = WordNetLemmatizer()\n",
    "\n",
    "for i, item in data['Text'].items():\n",
    "    xyz = ''\n",
    "    for word in item.split(' '):\n",
    "        xyz += wordnet_lemmatizer.lemmatize(word)\n",
    "        xyz += ' '\n",
    "    if item !=  xyz.strip():\n",
    "        #print(i, item)\n",
    "        #print(xyz)\n",
    "        data['Text'][i] = xyz\n",
    "data.head(20)"
   ]
  },
  {
   "cell_type": "code",
   "execution_count": 0,
   "metadata": {
    "colab": {},
    "colab_type": "code",
    "id": "O9UEkOHrOyN2"
   },
   "outputs": [],
   "source": [
    "#convert the data\tinto vector forms\tusing\tWord2Vec\twith\tvector\tsize\tof\t20.\n",
    "\n"
   ]
  },
  {
   "cell_type": "code",
   "execution_count": 0,
   "metadata": {
    "colab": {},
    "colab_type": "code",
    "id": "rEel2YXzpcXS"
   },
   "outputs": [],
   "source": [
    "#Split data into training (60%),  test (20%) and validation (20%) set\n",
    "X = data['Text']\n",
    "y = data['Sentiment']\n",
    " \n",
    "X_train, X_test, y_train, y_test = train_test_split(X, y, test_size=0.1, random_state=42)\n",
    " \n",
    "X_train, X_val, y_train, y_val = train_test_split(X_train, y_train, test_size=0.1, random_state=42)"
   ]
  },
  {
   "cell_type": "code",
   "execution_count": 0,
   "metadata": {
    "colab": {
     "base_uri": "https://localhost:8080/",
     "height": 119
    },
    "colab_type": "code",
    "executionInfo": {
     "elapsed": 5856,
     "status": "ok",
     "timestamp": 1564969549216,
     "user": {
      "displayName": "Manish Kumar",
      "photoUrl": "",
      "userId": "14491006042092619867"
     },
     "user_tz": -330
    },
    "id": "WKJoCbVvqMMF",
    "outputId": "b29e7d9a-80cb-4858-dc00-65c43f55823e"
   },
   "outputs": [
    {
     "name": "stdout",
     "output_type": "stream",
     "text": [
      "X_train shape: (2831,)\n",
      "X_test shape: (350,)\n",
      "X_val shape: (315,)\n",
      "y_train shape: (2831,)\n",
      "y_test shape: (350,)\n",
      "y_val shape: (315,)\n"
     ]
    }
   ],
   "source": [
    "print(\"X_train shape: \" + str(X_train.shape))\n",
    "print(\"X_test shape: \" + str(X_test.shape))\n",
    "print(\"X_val shape: \" + str(X_val.shape))\n",
    "print(\"y_train shape: \" + str(y_train.shape))\n",
    "print(\"y_test shape: \" + str(y_test.shape))\n",
    "print(\"y_val shape: \" + str(y_val.shape))\n",
    "#print(y_test)"
   ]
  },
  {
   "cell_type": "code",
   "execution_count": 0,
   "metadata": {
    "colab": {
     "base_uri": "https://localhost:8080/",
     "height": 156
    },
    "colab_type": "code",
    "executionInfo": {
     "elapsed": 216784,
     "status": "ok",
     "timestamp": 1564969791658,
     "user": {
      "displayName": "Manish Kumar",
      "photoUrl": "",
      "userId": "14491006042092619867"
     },
     "user_tz": -330
    },
    "id": "qfpQ2vn2qzdh",
    "outputId": "4085ab74-133f-4e1c-b5bd-910149a01a64"
   },
   "outputs": [
    {
     "name": "stderr",
     "output_type": "stream",
     "text": [
      "/usr/local/lib/python3.6/dist-packages/smart_open/smart_open_lib.py:398: UserWarning: This function is deprecated, use smart_open.open instead. See the migration notes for details: https://github.com/RaRe-Technologies/smart_open/blob/master/README.rst#migrating-to-the-new-open-function\n",
      "  'See the migration notes for details: %s' % _MIGRATION_NOTES_URL\n"
     ]
    },
    {
     "name": "stdout",
     "output_type": "stream",
     "text": [
      "Shape of embedding matrix:  (2123132, 100)\n"
     ]
    },
    {
     "name": "stderr",
     "output_type": "stream",
     "text": [
      "/usr/local/lib/python3.6/dist-packages/ipykernel_launcher.py:3: DeprecationWarning: Call to deprecated `wv` (Attribute will be removed in 4.0.0, use self instead).\n",
      "  This is separate from the ipykernel package so we can avoid doing imports until\n",
      "/usr/local/lib/python3.6/dist-packages/ipykernel_launcher.py:3: DeprecationWarning: Call to deprecated `syn0` (Attribute will be removed in 4.0.0, use self.wv.vectors instead).\n",
      "  This is separate from the ipykernel package so we can avoid doing imports until\n"
     ]
    }
   ],
   "source": [
    "#Load existing Polish Word2vec model taken from Polish Academy of Science:\n",
    "word2vec_model = gensim.models.KeyedVectors.load_word2vec_format('/content/drive/My Drive/Language_1/nkjp.txt', binary=False)\n",
    " \n",
    "embedding_matrix = word2vec_model.wv.syn0\n",
    "print('Shape of embedding matrix: ', embedding_matrix.shape)"
   ]
  },
  {
   "cell_type": "code",
   "execution_count": 0,
   "metadata": {
    "colab": {
     "base_uri": "https://localhost:8080/",
     "height": 71
    },
    "colab_type": "code",
    "executionInfo": {
     "elapsed": 1345,
     "status": "ok",
     "timestamp": 1564963956360,
     "user": {
      "displayName": "Manish Kumar",
      "photoUrl": "",
      "userId": "14491006042092619867"
     },
     "user_tz": -330
    },
    "id": "jftAHHTKsfYV",
    "outputId": "c989a3e1-6eb6-413a-86ed-64bac8cc8ae7"
   },
   "outputs": [
    {
     "name": "stdout",
     "output_type": "stream",
     "text": [
      "Found 3845 unique tokens.\n",
      "{'the': 1, 'a': 2, 'and': 3, 'it': 4, 'is': 5, 'i': 6, 'of': 7, 'this': 8, 'to': 9, 'movie': 10, 'phone': 11, 'film': 12, 'in': 13, 'wa': 14, 'great': 15, 'good': 16, 'that': 17, 'one': 18, 'for': 19, 'work': 20, 'with': 21, 'on': 22, 'not': 23, 'my': 24, 'very': 25, 'bad': 26, 'like': 27, 'time': 28, 'well': 29, 'you': 30, 'but': 31, 'really': 32, 'have': 33, 'are': 34, 'product': 35, 'would': 36, 'dont': 37, 'character': 38, 'quality': 39, 'even': 40, 'headset': 41, 'so': 42, 'get': 43, 'ever': 44, 'all': 45, 'sound': 46, 'best': 47, 'love': 48, 'battery': 49, 'also': 50, 'make': 51, 'use': 52, 'there': 53, 'just': 54, 'ive': 55, 'excellent': 56, 'acting': 57, 'from': 58, 'ear': 59, 'at': 60, 'could': 61, 'better': 62, 'look': 63, 'see': 64, 'thing': 65, 'be': 66, 'made': 67, 'case': 68, 'im': 69, 'much': 70, 'an': 71, 'ha': 72, 'about': 73, 'if': 74, 'recommend': 75, 'had': 76, 'think': 77, 'out': 78, 'way': 79, 'year': 80, 'scene': 81, 'doesnt': 82, 'by': 83, 'real': 84, 'no': 85, 'or': 86, 'only': 87, 'didnt': 88, 'story': 89, 'still': 90, 'waste': 91, 'piece': 92, 'he': 93, 'money': 94, 'right': 95, 'go': 96, 'nice': 97, 'more': 98, 'your': 99, 'people': 100, 'first': 101, 'actor': 102, 'than': 103, 'two': 104, 'when': 105, 'every': 106, 'plot': 107, 'fit': 108, 'call': 109, 'worst': 110, 'never': 111, 'who': 112, 'price': 113, 'problem': 114, 'enough': 115, 'charger': 116, 'new': 117, 'little': 118, 'can': 119, 'up': 120, 'seen': 121, 'life': 122, 'because': 123, 'script': 124, 'were': 125, 'me': 126, 'anyone': 127, 'screen': 128, 'his': 129, 'everything': 130, 'used': 131, 'line': 132, 'got': 133, 'give': 134, 'camera': 135, 'show': 136, 'they': 137, 'know': 138, 'poor': 139, 'service': 140, 'car': 141, 'after': 142, 'what': 143, 'say': 144, 'worked': 145, 'part': 146, 'how': 147, 'pretty': 148, 'watching': 149, 'lot': 150, 'easy': 151, 'most': 152, 'long': 153, 'comfortable': 154, 'terrible': 155, 'any': 156, 'however': 157, 'buy': 158, 'bought': 159, 'cast': 160, 'which': 161, 'minute': 162, 'performance': 163, 'quite': 164, 'some': 165, 'last': 166, 'highly': 167, 'fine': 168, 'far': 169, 'cool': 170, 'funny': 171, 'cant': 172, 'black': 173, 'many': 174, 'found': 175, 'day': 176, 'nothing': 177, 'find': 178, 'too': 179, 'wonderful': 180, 'do': 181, 'job': 182, 'other': 183, 'bluetooth': 184, 'happy': 185, 'take': 186, 'worth': 187, 'item': 188, 'end': 189, 'disappointed': 190, 'game': 191, 'reception': 192, 'awful': 193, 'watch': 194, 'going': 195, 'big': 196, 'totally': 197, 'come': 198, 'couldnt': 199, 'play': 200, 'will': 201, 'picture': 202, 'hour': 203, 'doe': 204, 'cheap': 205, 'them': 206, 'stupid': 207, 'over': 208, 'charge': 209, 'want': 210, 'did': 211, 'absolutely': 212, 'though': 213, 'almost': 214, 'cell': 215, 'hear': 216, 'thought': 217, 'again': 218, 'low': 219, 'device': 220, 'art': 221, 'keep': 222, 'beautiful': 223, 'am': 224, 'design': 225, 'off': 226, 'into': 227, 'actually': 228, 'plug': 229, 'kind': 230, 'these': 231, 'feature': 232, 'small': 233, 'using': 234, 'definitely': 235, 'purchase': 236, 'back': 237, 'talk': 238, 'her': 239, 'especially': 240, 'turn': 241, 'writing': 242, 'must': 243, 'anything': 244, 'man': 245, 'understand': 246, 'white': 247, 'thats': 248, 'been': 249, 'mess': 250, 'place': 251, 'simply': 252, 'clear': 253, 'working': 254, 'short': 255, 'loved': 256, 'effect': 257, 'now': 258, 'music': 259, 'interesting': 260, 'motorola': 261, 'around': 262, 'old': 263, 'experience': 264, 'crap': 265, 'volume': 266, 'hold': 267, 'month': 268, 'completely': 269, 'being': 270, 'probably': 271, 'light': 272, 'hand': 273, 'few': 274, 'strong': 275, 'another': 276, 'liked': 277, 'without': 278, 'then': 279, 'put': 280, 'director': 281, 'dialogue': 282, 'looking': 283, 'jabra': 284, 'role': 285, 'played': 286, 'since': 287, 'least': 288, 'original': 289, 'button': 290, 'their': 291, 'le': 292, 'value': 293, 'predictable': 294, 'star': 295, 'family': 296, 'suck': 297, 'horrible': 298, 'id': 299, 'different': 300, 'several': 301, 'saw': 302, 'wasted': 303, 'cost': 304, 'ending': 305, 'worse': 306, 'rather': 307, 'set': 308, 'feel': 309, 'girl': 310, 'certainly': 311, 'wasnt': 312, 'face': 313, 'always': 314, 'both': 315, 'here': 316, 'watched': 317, 'try': 318, 'shot': 319, 'received': 320, 'dropped': 321, 'voice': 322, 'week': 323, 'junk': 324, 'second': 325, 'hard': 326, 'action': 327, 'feeling': 328, 'top': 329, 'impressed': 330, 'easily': 331, 'series': 332, 'unfortunately': 333, 'cable': 334, 'done': 335, 'word': 336, 'important': 337, 'need': 338, 'cinematography': 339, 'she': 340, 'came': 341, 'cinema': 342, 'perfectly': 343, 'drama': 344, 'truly': 345, 'together': 346, 'customer': 347, 'expect': 348, 'broke': 349, 'tried': 350, 'garbage': 351, 'fan': 352, 'audio': 353, 'sure': 354, 'whole': 355, 'song': 356, 'started': 357, 'boring': 358, 'believe': 359, 'company': 360, 'avoid': 361, 'obviously': 362, 'everyone': 363, 'entire': 364, 'directing': 365, 'unit': 366, 'went': 367, 'away': 368, 'rating': 369, 'decent': 370, 'u': 371, 'said': 372, 'special': 373, 'overall': 374, 'enjoyed': 375, 'three': 376, 'those': 377, 'comedy': 378, 'pleased': 379, 'may': 380, 'superb': 381, 'human': 382, 'lost': 383, 'trying': 384, 'cover': 385, 'level': 386, 'seeing': 387, 'perhaps': 388, 'barely': 389, 'ill': 390, 'return': 391, 'incredible': 392, 'software': 393, 'recommended': 394, 'awesome': 395, 'fall': 396, 'within': 397, 'style': 398, 'verizon': 399, 'we': 400, 'fun': 401, 'yet': 402, 'wear': 403, 'tv': 404, 'brilliant': 405, 'glad': 406, 'portrayal': 407, 'child': 408, 'fact': 409, 'kid': 410, 'either': 411, 'should': 412, 'let': 413, 'suspense': 414, 'john': 415, 'amazon': 416, 'slow': 417, 'wont': 418, 'bar': 419, 'history': 420, 's': 421, 'headphone': 422, 'seem': 423, 'reason': 424, 'such': 425, 'seems': 426, 'rent': 427, 'written': 428, 'result': 429, 'while': 430, 'high': 431, 'disappointment': 432, 'range': 433, 'annoying': 434, 'night': 435, 'side': 436, 'same': 437, 'clever': 438, 'fails': 439, 'plus': 440, 'mostly': 441, 'amazing': 442, 'sometimes': 443, 'internet': 444, 'editing': 445, 'player': 446, 'left': 447, 'house': 448, 'fast': 449, 'making': 450, 'priced': 451, 'simple': 452, 'home': 453, 'drop': 454, 'documentary': 455, 'belt': 456, 'signal': 457, 'involved': 458, 'whatever': 459, 'rest': 460, 'actress': 461, 'break': 462, 'classic': 463, 'stay': 464, 'pull': 465, 'playing': 466, 'given': 467, 'enjoy': 468, 'wouldnt': 469, 'terrific': 470, 'none': 471, 'front': 472, 'joy': 473, 'data': 474, 'believable': 475, 'guess': 476, 'between': 477, 'wanted': 478, 'half': 479, 'run': 480, 'instruction': 481, 'weak': 482, 'store': 483, 'nokia': 484, 'disappointing': 485, 'mediocre': 486, 'down': 487, 'form': 488, 'along': 489, 'kept': 490, 'quickly': 491, 'budget': 492, 'samsung': 493, 'choice': 494, 'razr': 495, 'casting': 496, 'horror': 497, 'next': 498, 'color': 499, 'own': 500, 'loud': 501, 'despite': 502, 'lack': 503, 'gave': 504, 'computer': 505, 'period': 506, 'super': 507, 'extremely': 508, 'idea': 509, 'sucked': 510, 'felt': 511, 'dead': 512, 'ability': 513, 'charging': 514, 'seriously': 515, 'arrived': 516, 'whatsoever': 517, 'hilarious': 518, 'lead': 519, 'useless': 520, 'theyre': 521, 'bit': 522, 'eye': 523, 'earpiece': 524, 'particularly': 525, 'review': 526, 'ago': 527, 'subtle': 528, 'connection': 529, 'memorable': 530, 'hitchcock': 531, 'audience': 532, 'flick': 533, 'through': 534, 'free': 535, 'helpful': 536, 'finally': 537, 'exactly': 538, 'charm': 539, 'tom': 540, 'before': 541, 'mind': 542, 'something': 543, 'moment': 544, 'number': 545, 'embarrassing': 546, 'start': 547, 'clip': 548, 'having': 549, 'generally': 550, 'poorly': 551, 'lame': 552, 'conversation': 553, 'outlet': 554, 'perfect': 555, 'where': 556, 'th': 557, 'premise': 558, 'already': 559, 'extra': 560, 'carry': 561, 'shipping': 562, 'share': 563, 'solid': 564, 'beyond': 565, 'drago': 566, 'attempt': 567, 'order': 568, 'created': 569, 'full': 570, 'might': 571, 'buying': 572, 'book': 573, 'expected': 574, 'turned': 575, 'huge': 576, 'pair': 577, 'size': 578, 'plastic': 579, 'clarity': 580, 'issue': 581, 'ridiculous': 582, 'video': 583, 'others': 584, 'ringtones': 585, 'easier': 586, 'cartoon': 587, 'flaw': 588, 'world': 589, 'direction': 590, 'tell': 591, 'trash': 592, 'often': 593, 'follow': 594, 'tool': 595, 'isnt': 596, 'couple': 597, 'amount': 598, 'cult': 599, 'production': 600, 'point': 601, 'angle': 602, 'heart': 603, 'lightweight': 604, 'blue': 605, 'difficult': 606, 'instead': 607, 'graphic': 608, 'rock': 609, 'genuine': 610, 'sending': 611, 'today': 612, 'sturdy': 613, 'help': 614, 'utterly': 615, 'getting': 616, 'silent': 617, 'joke': 618, 'mention': 619, 'support': 620, 'network': 621, 'wall': 622, 'meaning': 623, 'called': 624, 'pc': 625, 'appearance': 626, 'torture': 627, 'needed': 628, 'else': 629, 'dialog': 630, 'wish': 631, 'fantastic': 632, 'true': 633, 'looked': 634, 'single': 635, 'deal': 636, 'note': 637, 'care': 638, 'guy': 639, 'occasionally': 640, 'able': 641, 'ask': 642, 'purchased': 643, 'course': 644, 'forever': 645, 'unbelievable': 646, 'later': 647, 'room': 648, 'our': 649, 'plan': 650, 'its': 651, 'energy': 652, 'addition': 653, 'hole': 654, 'mean': 655, 'visual': 656, 'website': 657, 'memory': 658, 'theater': 659, 'living': 660, 'decision': 661, 'coming': 662, 'comfortably': 663, 'advise': 664, 'entertaining': 665, 'longer': 666, 'owned': 667, 'aspect': 668, 'unreliable': 669, 'yes': 670, 'wrong': 671, 'each': 672, 'pay': 673, 'beginning': 674, 'adorable': 675, 'chemistry': 676, 'situation': 677, 'seller': 678, 'hate': 679, 'bother': 680, 'writer': 681, 'whether': 682, 'palm': 683, 'myself': 684, 'mistake': 685, 'effective': 686, 'killer': 687, 'maybe': 688, 'oh': 689, 'forget': 690, 'occupied': 691, 'iphone': 692, 'exceptional': 693, 'touch': 694, 'treo': 695, 'usb': 696, 'satisfied': 697, 'pairing': 698, 'particular': 699, 'q': 700, 'final': 701, 'lasting': 702, 'mic': 703, 'force': 704, 'depth': 705, 'speaker': 706, 'american': 707, 'throughout': 708, 'freedom': 709, 'plantronics': 710, 'tmobile': 711, 'wonderfully': 712, 'daughter': 713, 'theme': 714, 'nobody': 715, 'youll': 716, 'appreciate': 717, 'wife': 718, 'contact': 719, 'death': 720, 'scratched': 721, 'average': 722, 'lovely': 723, 'usual': 724, 'learn': 725, 'footage': 726, 'scenery': 727, 'touching': 728, 'keypad': 729, 'young': 730, 'provided': 731, 'thriller': 732, 'imagination': 733, 'indeed': 734, 'took': 735, 'spoiler': 736, 'told': 737, 'earlier': 738, 'intelligence': 739, 'scamp': 740, 'impressive': 741, 'market': 742, 'worthwhile': 743, 'him': 744, 'ready': 745, 'wireless': 746, 'walked': 747, 'type': 748, 'age': 749, 'smart': 750, 'previous': 751, 'negative': 752, 'worthless': 753, 'bored': 754, 'james': 755, 'brilliance': 756, 'beware': 757, 'clearly': 758, 'pg': 759, 'mickey': 760, 'episode': 761, 'save': 762, 'insult': 763, 'twist': 764, 'display': 765, 'consider': 766, 'supposedly': 767, 'los': 768, 'angeles': 769, 'interested': 770, 'coverage': 771, 'wind': 772, 'inside': 773, 'female': 774, 'reading': 775, 'credit': 776, 'due': 777, 'happened': 778, 'hill': 779, 'microphone': 780, 'emotion': 781, 'father': 782, 'although': 783, 'pocket': 784, 'tale': 785, 'edge': 786, 'keyboard': 787, 'massive': 788, 'serious': 789, 'included': 790, 'trouble': 791, 'reasonably': 792, 'ruthless': 793, 'happier': 794, 'power': 795, 'convincing': 796, 'painful': 797, 'leather': 798, 'why': 799, 'era': 800, 'south': 801, 'jawbone': 802, 'sounded': 803, 'sea': 804, 'example': 805, 'leaf': 806, 'unless': 807, 'youre': 808, 'sort': 809, 'drain': 810, 'arent': 811, 'pathetic': 812, 'failed': 813, 'pretentious': 814, 'tone': 815, 'frightening': 816, 'description': 817, 'soundtrack': 818, 'possible': 819, 'offer': 820, 'thrown': 821, 'seemed': 822, 'warning': 823, 'cingular': 824, 'sequence': 825, 'space': 826, 'produced': 827, 'mother': 828, 'handsfree': 829, 'rate': 830, 'aerial': 831, 'fear': 832, 'havent': 833, 'open': 834, 'remember': 835, 'hope': 836, 'released': 837, 'overly': 838, 'expensive': 839, 'message': 840, 'fire': 841, 'protection': 842, 'quick': 843, 'literally': 844, 'enjoyable': 845, 'setup': 846, 'ray': 847, 'charles': 848, 'material': 849, 'development': 850, 'talent': 851, 'rank': 852, 'control': 853, 'camerawork': 854, 'talented': 855, 'someone': 856, 'faux': 857, 'earbud': 858, 'gem': 859, 'head': 860, 'spent': 861, 'wilkinson': 862, 'plugged': 863, 'laughable': 864, 'wow': 865, 'function': 866, 'waiting': 867, 'showed': 868, 'gadget': 869, 'explain': 870, 'speed': 871, 'flawed': 872, 'wonder': 873, 'lg': 874, 'dozen': 875, 'stand': 876, 'lacking': 877, 'bt': 878, 'giallo': 879, 'somewhat': 880, 'gon': 881, 'na': 882, 'ipod': 883, 'flip': 884, 'sharp': 885, 'anne': 886, 'sister': 887, 'war': 888, 'scale': 889, 'five': 890, 'ended': 891, 'mp': 892, 'lock': 893, 'incredibly': 894, 'relation': 895, 'nut': 896, 'tinny': 897, 'comment': 898, 'sprint': 899, 'woman': 900, 'load': 901, 'knew': 902, 'conclusion': 903, 'amazed': 904, 'dream': 905, 'happen': 906, 'area': 907, 'hated': 908, 'setting': 909, 'lion': 910, 'become': 911, 'replacement': 912, 'change': 913, 'appears': 914, 'sony': 915, 'during': 916, 'ups': 917, 'moving': 918, 'drive': 919, 'complete': 920, 'grace': 921, 'oscar': 922, 'jimmy': 923, 'quiet': 924, 'possibly': 925, 'commercial': 926, 'explanation': 927, 'forgot': 928, 'weird': 929, 'essentially': 930, 'tech': 931, 'stop': 932, 'ringing': 933, 'creates': 934, 'recharge': 935, 'source': 936, 'etc': 937, 'gel': 938, 'r': 939, 'conflict': 940, 'proud': 941, 'reviewer': 942, 'century': 943, 'basic': 944, 'skype': 945, 'vehicle': 946, 'cradle': 947, 'twice': 948, 'model': 949, 'laptop': 950, 'depicts': 951, 'rip': 952, 'maintain': 953, 'loop': 954, 'tiny': 955, 'highest': 956, 'understated': 957, 'dedication': 958, 'skip': 959, 'missed': 960, 'numerous': 961, 'provoking': 962, 'question': 963, 'ugly': 964, 'complaint': 965, 'favorite': 966, 'ordered': 967, 'cutout': 968, 'placed': 969, 'managed': 970, 'spring': 971, 'hurt': 972, 'adapter': 973, 'delight': 974, 'friend': 975, 'enter': 976, 'timeframe': 977, 'itself': 978, 'directorial': 979, 'humour': 980, 'hero': 981, 'stunning': 982, 'returned': 983, 'deserved': 984, 'operate': 985, 'listening': 986, 'opening': 987, 'god': 988, 'sake': 989, 'add': 990, 'boost': 991, 'miyazakis': 992, 'latest': 993, 'studio': 994, 'ponyo': 995, 'imaginative': 996, 'hollow': 997, 'shame': 998, 'breaking': 999, 'gotten': 1000, 'alone': 1001, 'filmmaking': 1002, 'study': 1003, 'selfindulgent': 1004, 'span': 1005, 'versus': 1006, 'practical': 1007, 'quinn': 1008, 'crazy': 1009, 'glance': 1010, 'glass': 1011, 'ease': 1012, 'opened': 1013, 'allowing': 1014, 'machine': 1015, 'relationship': 1016, 'soon': 1017, 'purchasing': 1018, 'compromise': 1019, 'self': 1020, 'bargain': 1021, 'v': 1022, 'falling': 1023, 'dvd': 1024, 'nun': 1025, 'church': 1026, 'defective': 1027, 'fat': 1028, 'christmas': 1029, 'emily': 1030, 'watson': 1031, 'beat': 1032, 'except': 1033, 'cole': 1034, 'paid': 1035, 'unsatisfactory': 1036, 'dying': 1037, 'wearing': 1038, 'uplifting': 1039, 'score': 1040, 'main': 1041, 'moto': 1042, 'acted': 1043, 'attention': 1044, 'singing': 1045, 'bore': 1046, 'recently': 1047, 'greatest': 1048, 'master': 1049, 'significant': 1050, 'narrative': 1051, 'plain': 1052, 'fx': 1053, 'location': 1054, 'thoroughly': 1055, 'forced': 1056, 'above': 1057, 'favourite': 1058, 'delivers': 1059, 'watkins': 1060, 'cat': 1061, 'mouse': 1062, 'communication': 1063, 'brain': 1064, 'youd': 1065, 'angel': 1066, 'sleek': 1067, 'storage': 1068, 'dull': 1069, 'lady': 1070, 'macbeth': 1071, 'blood': 1072, 'evil': 1073, 'viewing': 1074, 'four': 1075, 'dialing': 1076, 'neither': 1077, 'paul': 1078, 'returning': 1079, 'tremendously': 1080, 'wayne': 1081, 'industry': 1082, 'presence': 1083, 'noteworthy': 1084, 'jamie': 1085, 'genius': 1086, 'ball': 1087, 'allow': 1088, 'composition': 1089, 'brian': 1090, 'dangerous': 1091, 'junkyard': 1092, 'hype': 1093, 'sandra': 1094, 'bullock': 1095, 'replace': 1096, 'exquisite': 1097, 'including': 1098, 'uncomfortable': 1099, 'vx': 1100, 'excuse': 1101, 'racial': 1102, 'member': 1103, 'move': 1104, 'vomit': 1105, 'race': 1106, 'echo': 1107, 'scary': 1108, 'huston': 1109, 'stuff': 1110, 'present': 1111, 'properly': 1112, 'plenty': 1113, 'humorous': 1114, 'brief': 1115, 'doctor': 1116, 'fully': 1117, 'charged': 1118, 'tooth': 1119, 'noticed': 1120, 'ok': 1121, 'excellently': 1122, 'exterior': 1123, 'intelligent': 1124, 'holster': 1125, 'telephone': 1126, 'party': 1127, 'duet': 1128, 'astronaut': 1129, 'crashed': 1130, 'packaged': 1131, 'dollar': 1132, 'mad': 1133, 'handled': 1134, 'procedure': 1135, 'sex': 1136, 'dropping': 1137, 'flawlessly': 1138, 'fox': 1139, 'supposed': 1140, 'bland': 1141, 'undoubtedly': 1142, 'masterpiece': 1143, 'describe': 1144, 'checking': 1145, 'cumbersome': 1146, 'sense': 1147, 'running': 1148, 'volcano': 1149, 'clichés': 1150, 'chinese': 1151, 'surprising': 1152, 'hollywood': 1153, 'theatre': 1154, 'mark': 1155, 'additional': 1156, 'surrounding': 1157, 'murdered': 1158, 'us': 1159, 'seat': 1160, 'remotely': 1161, 'america': 1162, 'pure': 1163, 'alexander': 1164, 'whine': 1165, 'recent': 1166, 'lange': 1167, 'cheaper': 1168, 'among': 1169, 'receive': 1170, 'frustration': 1171, 'handy': 1172, 'laugh': 1173, 'dark': 1174, 'shipped': 1175, 'leave': 1176, 'dance': 1177, 'badly': 1178, 'third': 1179, 'colored': 1180, 'functionality': 1181, 'modest': 1182, 'basically': 1183, 'terribly': 1184, 'please': 1185, 'match': 1186, 'giving': 1187, 'bell': 1188, 'letting': 1189, 'length': 1190, 'stocking': 1191, 'unrecognizable': 1192, 'buyer': 1193, 'ed': 1194, 'otherwise': 1195, 'paced': 1196, 'faster': 1197, 'business': 1198, 'following': 1199, 'secure': 1200, 'switch': 1201, 'accidentally': 1202, 'lucy': 1203, 'depressing': 1204, 'artist': 1205, 'moral': 1206, 'past': 1207, 'balance': 1208, 'screenwriter': 1209, 'deserves': 1210, 'taking': 1211, 'racism': 1212, 'sunglass': 1213, 'canada': 1214, 'changing': 1215, 'jonah': 1216, 'obvious': 1217, 'regret': 1218, 'future': 1219, 'effort': 1220, 'warmth': 1221, 'honestly': 1222, 'unpredictable': 1223, 'european': 1224, 'shelf': 1225, 'weight': 1226, 'notice': 1227, 'central': 1228, 'realize': 1229, 'holding': 1230, 'beautifully': 1231, 'costume': 1232, 'normally': 1233, 'outside': 1234, 'static': 1235, 'shakespear': 1236, 'killing': 1237, 'figure': 1238, 'fifteen': 1239, 'wasting': 1240, 'air': 1241, 'write': 1242, 'fairly': 1243, 'person': 1244, 'saying': 1245, 'unconvincing': 1246, 'reasonable': 1247, 'fascinating': 1248, 'background': 1249, 'revealing': 1250, 'doing': 1251, 'accused': 1252, 'italian': 1253, 'unfolds': 1254, 'focus': 1255, 'wholesome': 1256, 'summary': 1257, 'download': 1258, 'send': 1259, 'cut': 1260, 'hot': 1261, 'protector': 1262, 'date': 1263, 'visually': 1264, 'loneliness': 1265, 'biggest': 1266, 'unhappy': 1267, 'ring': 1268, 'courtroom': 1269, 'compelling': 1270, 'pitiful': 1271, 'push': 1272, 'current': 1273, 'flash': 1274, 'continuity': 1275, 'regarding': 1276, 'seamlessly': 1277, 'dog': 1278, 'view': 1279, 'practically': 1280, 'childhood': 1281, 'empty': 1282, 'cardboard': 1283, 'surprisingly': 1284, 'jean': 1285, 'built': 1286, 'masterful': 1287, 'key': 1288, 'pad': 1289, 'stereotype': 1290, 'predictably': 1291, 'sequel': 1292, 'wired': 1293, 'wooden': 1294, 'decay': 1295, 'abysmal': 1296, 'contained': 1297, 'mainly': 1298, 'large': 1299, 'unbearable': 1300, 'sens': 1301, 'stanwyck': 1302, 'morgan': 1303, 'modern': 1304, 'surprised': 1305, 'check': 1306, 'transfer': 1307, 'flimsy': 1308, 'died': 1309, 'heard': 1310, 'finished': 1311, 'lord': 1312, 'construction': 1313, 'appalling': 1314, 'heaven': 1315, 'element': 1316, 'smoothly': 1317, 'total': 1318, 'uninteresting': 1319, 'flat': 1320, 'themselves': 1321, 'lousy': 1322, 'dancing': 1323, 'frankly': 1324, 'lacked': 1325, 'speak': 1326, 'deeply': 1327, 'interest': 1328, 'june': 1329, 'considering': 1330, 'superbly': 1331, 'crafted': 1332, 'parent': 1333, 'thanks': 1334, 'psychological': 1335, 'tremendous': 1336, 'journey': 1337, 'soul': 1338, 'jerky': 1339, 'sick': 1340, 'werent': 1341, 'billy': 1342, 'trilogy': 1343, 'cease': 1344, 'french': 1345, 'appealing': 1346, 'coppola': 1347, 'contrast': 1348, 'offensive': 1349, 'poetry': 1350, 'bunch': 1351, 'until': 1352, 'confusing': 1353, 'under': 1354, 'underneath': 1355, 'lose': 1356, 'achievement': 1357, 'filmmaker': 1358, 'sand': 1359, 'nearly': 1360, 'wi': 1361, 'cellphone': 1362, 'begin': 1363, 'lane': 1364, 'handle': 1365, 'bold': 1366, 'driving': 1367, 'utter': 1368, 'photography': 1369, 'eargels': 1370, 'son': 1371, 'noise': 1372, 'igo': 1373, 'brand': 1374, 'core': 1375, 'elegant': 1376, 'closeup': 1377, 'lighting': 1378, 'technology': 1379, 'iq': 1380, 'towards': 1381, 'step': 1382, 'adaptation': 1383, 'wild': 1384, 'process': 1385, 'discovering': 1386, 'whiny': 1387, 'mobile': 1388, 'sentiment': 1389, 'docking': 1390, 'station': 1391, 'exchange': 1392, 'overacting': 1393, 'extended': 1394, 'relatively': 1395, 'refund': 1396, 'normal': 1397, 'imagine': 1398, 'hackneyed': 1399, 'robert': 1400, 'portraying': 1401, 'remake': 1402, 'shed': 1403, 'understanding': 1404, 'underlying': 1405, 'chick': 1406, 'dislike': 1407, 'became': 1408, 'accept': 1409, 'window': 1410, 'exchanged': 1411, 'nonsense': 1412, 'lazy': 1413, 'tension': 1414, 'scared': 1415, 'putting': 1416, 'card': 1417, 'nature': 1418, 'reference': 1419, 'sleep': 1420, 'anyway': 1421, 'neil': 1422, 'reality': 1423, 'catching': 1424, 'stated': 1425, 'pda': 1426, 'improvement': 1427, 'hell': 1428, 'discomfort': 1429, 'loose': 1430, 'scare': 1431, 'errol': 1432, 'flynn': 1433, 'natural': 1434, 'gosh': 1435, 'notable': 1436, 'access': 1437, 'rare': 1438, 'producer': 1439, 'unusable': 1440, 'elsewhere': 1441, 'unfunny': 1442, 'excited': 1443, 'peter': 1444, 'disgusting': 1445, 'install': 1446, 'vi': 1447, 'e': 1448, 'as': 1449, 'began': 1450, 'taped': 1451, 'apart': 1452, 'odd': 1453, 'row': 1454, 'entirely': 1455, 'slim': 1456, 'award': 1457, 'deserving': 1458, 'season': 1459, 'watchable': 1460, 'reaction': 1461, 'o': 1462, 'taylor': 1463, 'recognition': 1464, 'hair': 1465, 'tip': 1466, 'constructed': 1467, 'motorolas': 1468, 'afraid': 1469, 'betty': 1470, 'filmed': 1471, 'martin': 1472, 'bonus': 1473, 'imaginable': 1474, 'create': 1475, 'pointless': 1476, 'popular': 1477, 'usually': 1478, 'comfort': 1479, 'crisp': 1480, 'contains': 1481, 'rated': 1482, 'disliked': 1483, 'africa': 1484, 'timely': 1485, 'bring': 1486, 'emilio': 1487, 'pacing': 1488, 'interplay': 1489, 'everywhere': 1490, 'thank': 1491, 'mercy': 1492, 'tear': 1493, 'experienced': 1494, 'att': 1495, 'foot': 1496, 'villain': 1497, 'smell': 1498, 'cheesy': 1499, 'channel': 1500, 'advertised': 1501, 'stage': 1502, 'early': 1503, 'fulci': 1504, 'sum': 1505, 'term': 1506, 'pm': 1507, 'puppet': 1508, 'timer': 1509, 'atleast': 1510, 'owneryou': 1511, 'buffet': 1512, 'science': 1513, 'teacher': 1514, 'creative': 1515, 'bipolarity': 1516, 'thug': 1517, 'luvs': 1518, 'diaper': 1519, 'atrocity': 1520, 'microsofts': 1521, 'intermittently': 1522, 'universe': 1523, 'buzzing': 1524, 'override': 1525, 'distracting': 1526, 'text': 1527, 'messaging': 1528, 'tricky': 1529, 'connecting': 1530, 'multiple': 1531, 'imac': 1532, 'external': 1533, 'phrase': 1534, 'owed': 1535, 'trond': 1536, 'fausa': 1537, 'aurvåg': 1538, 'bothersome': 1539, 'juano': 1540, 'hernandez': 1541, 'supporting': 1542, 'murdering': 1543, 'angela': 1544, 'bennett': 1545, 'expert': 1546, 'jutland': 1547, 'instrument': 1548, 'sidelined': 1549, 'inexplicable': 1550, 'crew': 1551, 'paired': 1552, 'w': 1553, 'transceiver': 1554, 'sitting': 1555, 'miss': 1556, 'armand': 1557, 'assante': 1558, 'greatno': 1559, 'convenient': 1560, 'ride': 1561, 'smoother': 1562, 'smartphone': 1563, 'ir': 1564, 'vessel': 1565, 'taken': 1566, 'mighty': 1567, 'frost': 1568, 'monkey': 1569, 'shouldnt': 1570, 'dna': 1571, 'copy': 1572, 'antiglare': 1573, 'sensor': 1574, 'yeah': 1575, 'impression': 1576, 'hosting': 1577, 'voiceovers': 1578, 'monotonous': 1579, 'guest': 1580, 'crowes': 1581, 'wed': 1582, 'subpar': 1583, 'tied': 1584, 'minutesmajor': 1585, 'collect': 1586, 'extant': 1587, 'austen': 1588, 'threshold': 1589, 'prompted': 1590, 'actingeven': 1591, 'professional': 1592, 'debbie': 1593, 'rochonwas': 1594, 'contributory': 1595, 'former': 1596, 'chimplike': 1597, 'tolerable': 1598, 'judith': 1599, 'feelgood': 1600, 'convey': 1601, 'broad': 1602, 'sweep': 1603, 'landscape': 1604, 'slide': 1605, 'grip': 1606, 'prevents': 1607, 'slipping': 1608, 'bend': 1609, 'metal': 1610, 'stress': 1611, 'improper': 1612, 'capture': 1613, 'essence': 1614, 'receiving': 1615, 'respect': 1616, 'embarassing': 1617, 'redeemed': 1618, 'mstk': 1619, 'fodder': 1620, 'provide': 1621, 'promised': 1622, 'slowmotion': 1623, 'needlessly': 1624, 'repeat': 1625, 'backed': 1626, 'corn': 1627, 'flake': 1628, 'box': 1629, 'bordered': 1630, 'stupidity': 1631, 'apt': 1632, 'counterfeit': 1633, 'drag': 1634, 'arguing': 1635, 'explosion': 1636, 'gas': 1637, 'tank': 1638, 'excelent': 1639, 'strength': 1640, 'earpad': 1641, 'onlyi': 1642, 'anywhere': 1643, 'screenthis': 1644, 'interface': 1645, 'decade': 1646, 'compete': 1647, 'reccommend': 1648, 'cg': 1649, 'microsoft': 1650, 'slideshow': 1651, 'hayao': 1652, 'eighth': 1653, 'ghibili': 1654, 'gake': 1655, 'ue': 1656, 'cliff': 1657, 'shell': 1658, 'directed': 1659, 'whom': 1660, 'grade': 1661, 'z': 1662, 'slowly': 1663, 'defect': 1664, 'risk': 1665, 'filmiing': 1666, 'expansive': 1667, 'onedimensional': 1668, 'simmering': 1669, 'boiling': 1670, 'wart': 1671, 'poet': 1672, 'bohemian': 1673, 'wartime': 1674, 'bombardment': 1675, 'london': 1676, 'outward': 1677, 'tranquillity': 1678, 'welsh': 1679, 'coastal': 1680, 'retreat': 1681, 'borderline': 1682, 'friendship': 1683, 'lust': 1684, 'concern': 1685, 'jealousy': 1686, 'rivalry': 1687, 'cowardice': 1688, 'egotism': 1689, 'heroism': 1690, 'selfsacrifice': 1691, 'treat': 1692, 'anthony': 1693, 'horse': 1694, 'via': 1695, 'inspiration': 1696, 'overcome': 1697, 'rejection': 1698, 'overnight': 1699, 'soundwise': 1700, 'lit': 1701, 'identifies': 1702, 'reversestereotypes': 1703, 'matrix': 1704, 'mindblowing': 1705, 'convoluted': 1706, 'convince': 1707, 'questioning': 1708, 'accent': 1709, 'allstar': 1710, 'below': 1711, 'washing': 1712, 'twirling': 1713, 'marriage': 1714, 'personally': 1715, 'involving': 1716, 'ireland': 1717, 'trek': 1718, 'frontier': 1719, 'heavyit': 1720, 'charisma': 1721, 'comedic': 1722, 'timing': 1723, 'kit': 1724, 'grainy': 1725, 'enhanced': 1726, 'assaulted': 1727, 'strident': 1728, 'cord': 1729, 'blare': 1730, 'exclaim': 1731, 'whoa': 1732, 'president': 1733, 'punishment': 1734, 'park': 1735, 'reccomendation': 1736, 'relative': 1737, 'inspiring': 1738, 'ultracheap': 1739, 'replaceeasy': 1740, 'ursula': 1741, 'burton': 1742, 'blueant': 1743, 'supertooth': 1744, 'paint': 1745, 'photograph': 1746, 'geek': 1747, 'bible': 1748, 'thumper': 1749, 'badass': 1750, 'indescribably': 1751, 'idiotic': 1752, 'mail': 1753, 'backlight': 1754, 'kindle': 1755, 'activated': 1756, 'suddenly': 1757, 'snug': 1758, 'upbeat': 1759, 'buyit': 1760, 'kathy': 1761, 'bates': 1762, 'desperation': 1763, 'escapism': 1764, 'variation': 1765, 'field': 1766, 'lap': 1767, 'mirrormask': 1768, 'mega': 1769, 'pixel': 1770, 'drained': 1771, 'slowmoving': 1772, 'aimless': 1773, 'distressed': 1774, 'drifting': 1775, 'television': 1776, 'warn': 1777, 'youdo': 1778, 'dumbest': 1779, 'hang': 1780, 'holder': 1781, 'musicincluding': 1782, 'shirley': 1783, 'jones': 1784, 'rendition': 1785, 'tonight': 1786, 'onethis': 1787, 'securly': 1788, 'hence': 1789, 'mishima': 1790, 'chilly': 1791, 'culture': 1792, 'schrader': 1793, 'struck': 1794, 'storyline': 1795, 'realistic': 1796, 'site': 1797, 'thrilled': 1798, 'mexican': 1799, 'matter': 1800, 'complex': 1801, 'water': 1802, 'expectation': 1803, 'gripping': 1804, 'fabulous': 1805, 'disturbing': 1806, 'witty': 1807, 'remaining': 1808, 'disaster': 1809, 'suffering': 1810, 'smile': 1811, 'lie': 1812, 'sublime': 1813, 'wise': 1814, 'realised': 1815, 'peculiarity': 1816, 'southern': 1817, 'california': 1818, 'desert': 1819, 'patent': 1820, 'logitech': 1821, 'n': 1822, 'communicate': 1823, 'subplots': 1824, 'native': 1825, 'eating': 1826, 'beall': 1827, 'endall': 1828, 'brainsucking': 1829, 'infatuated': 1830, 'excellentangel': 1831, 'adorablehis': 1832, 'yelp': 1833, 'scaredand': 1834, 'funniest': 1835, 'whenscamp': 1836, 'caught': 1837, 'curtain': 1838, 'beforei': 1839, 'movieits': 1840, 'edition': 1841, 'lid': 1842, 'sibling': 1843, 'bond': 1844, 'ample': 1845, 'pro': 1846, 'peachykeen': 1847, 'jim': 1848, 'oconnor': 1849, 'energetic': 1850, 'george': 1851, 'sobaditsgood': 1852, 'sobaditsmemorable': 1853, 'helen': 1854, 'baxendale': 1855, 'credible': 1856, 'cheerfull': 1857, 'naughty': 1858, 'deadly': 1859, 'taste': 1860, 'casted': 1861, 'greater': 1862, 'corded': 1863, 'sharing': 1864, 'latch': 1865, 'visor': 1866, 'shallow': 1867, 'insincere': 1868, 'delivery': 1869, 'clipping': 1870, 'deffinitely': 1871, 'cent': 1872, 'upandcoming': 1873, 'grtting': 1874, 'vc': 1875, 'whenever': 1876, 'tvnever': 1877, 'memorized': 1878, 'dustpan': 1879, 'indoors': 1880, 'disposable': 1881, 'actorsan': 1882, 'haggis': 1883, 'stroke': 1884, 'storytellinga': 1885, 'painted': 1886, 'crayon': 1887, 'comprehensible': 1888, 'wallet': 1889, 'crayonpencil': 1890, 'drawing': 1891, 'colorful': 1892, 'fanciful': 1893, 'detail': 1894, 'dysfunctionhe': 1895, 'shined': 1896, 'senior': 1897, 'older': 1898, 'hadnt': 1899, 'showcasing': 1900, 'punched': 1901, 'gallon': 1902, 'spew': 1903, 'forth': 1904, 'foxx': 1905, 'owns': 1906, 'spacek': 1907, 'coal': 1908, 'miner': 1909, 'quaid': 1910, 'accessing': 1911, 'downloading': 1912, 'performing': 1913, 'state': 1914, 'usage': 1915, 'faultless': 1916, 'underappreciated': 1917, 'keith': 1918, 'bully': 1919, 'teddy': 1920, 'vivid': 1921, 'min': 1922, 'phonebattery': 1923, 'forgetting': 1924, 'enjoyment': 1925, 'government': 1926, 'scientist': 1927, 'argued': 1928, 'humanity': 1929, 'romanticcharminghilariousand': 1930, 'adorablethe': 1931, 'funnyall': 1932, 'specialtoo': 1933, 'laughedkids': 1934, 'itbuy': 1935, 'outit': 1936, 'hip': 1937, 'prays': 1938, 'horrendous': 1939, 'prosgood': 1940, 'searched': 1941, 'picked': 1942, 'phonesmp': 1943, 'inventive': 1944, 'pointillistic': 1945, 'behold': 1946, 'imdb': 1947, 'env': 1948, 'soyo': 1949, 'slacker': 1950, 'littered': 1951, 'overt': 1952, 'slur': 1953, 'depicted': 1954, 'moron': 1955, 'boob': 1956, 'stuck': 1957, 'max': 1958, 'mute': 1959, 'manual': 1960, 'national': 1961, 'treasure': 1962, 'repeating': 1963, 'robotic': 1964, 'choked': 1965, 'youve': 1966, 'currently': 1967, 'firstperson': 1968, 'shooter': 1969, 'delay': 1970, 'lilt': 1971, 'problemvery': 1972, 'reminded': 1973, 'evinced': 1974, 'faithful': 1975, 'joyce': 1976, 'acclaimed': 1977, 'novella': 1978, 'welldone': 1979, 'rpg': 1980, 'disgrace': 1981, 'selfrespecting': 1982, 'rpger': 1983, 'sorry': 1984, 'angus': 1985, 'scrimm': 1986, 'gently': 1987, 'menacing': 1988, 'violinplaying': 1989, 'anatomist': 1990, 'bed': 1991, 'wifi': 1992, 'morning': 1993, 'unintelligible': 1994, 'general': 1995, 'loewenhielms': 1996, 'partaking': 1997, 'cailles': 1998, 'en': 1999, 'sarcophage': 2000, 'sample': 2001, 'savor': 2002, 'amusing': 2003, 'movement': 2004, 'typical': 2005, 'sci': 2006, 'fi': 2007, 'blackberry': 2008, 'charming': 2009, 'pleather': 2010, 'm': 2011, 'verizons': 2012, 'bill': 2013, 'pricing': 2014, 'marred': 2015, 'constant': 2016, 'indoor': 2017, 'soap': 2018, 'opera': 2019, 'talking': 2020, 'shouting': 2021, 'h': 2022, 'considers': 2023, 'cold': 2024, 'ussr': 2025, 'originally': 2026, 'discarded': 2027, 'decidely': 2028, 'universal': 2029, 'b': 2030, 'baby': 2031, 'owl': 2032, 'balanced': 2033, 'underacting': 2034, 'wellbalanced': 2035, 'intended': 2036, 'football': 2037, 'perplexing': 2038, 'ticket': 2039, 'trashy': 2040, 'lewis': 2041, 'considerable': 2042, 'incendiary': 2043, 'unrestrained': 2044, 'problemsthe': 2045, 'professor': 2046, 'cotton': 2047, 'club': 2048, 'unfaithful': 2049, 'gere': 2050, 'reversible': 2051, 'wouldve': 2052, 'competent': 2053, 'jerry': 2054, 'falwell': 2055, 'wrongfirst': 2056, 'package': 2057, 'turkey': 2058, 'straw': 2059, 'cruel': 2060, 'ohsomature': 2061, 'neighbourgirl': 2062, 'misplace': 2063, 'rocked': 2064, 'social': 2065, 'physical': 2066, 'elaborately': 2067, 'aesthetically': 2068, 'sculpture': 2069, 'reset': 2070, 'wiping': 2071, 'copier': 2072, 'geeky': 2073, 'toast': 2074, 'ooze': 2075, 'embedded': 2076, 'stylish': 2077, 'drawback': 2078, 'pause': 2079, 'wit': 2080, 'hit': 2081, 'poler': 2082, 'bear': 2083, 'kinda': 2084, 'cutebut': 2085, 'fort': 2086, 'steele': 2087, 'thunderbird': 2088, 'onscreen': 2089, 'critical': 2090, 'muppets': 2091, 'monumental': 2092, 'road': 2093, 'silly': 2094, 'noir': 2095, 'implausible': 2096, 'unmitigated': 2097, 'wellpaced': 2098, 'suited': 2099, 'restocking': 2100, 'fee': 2101, 'complain': 2102, 'wake': 2103, 'hundred': 2104, 'popcorn': 2105, 'border': 2106, 'ie': 2107, 'outlandish': 2108, 'array': 2109, 'psychotic': 2110, 'lovable': 2111, 'thumb': 2112, 'doubt': 2113, 'childlike': 2114, 'red': 2115, 'evaluate': 2116, 'engaging': 2117, 'earset': 2118, 'outgoing': 2119, 'commentary': 2120, 'elderly': 2121, 'awkwardly': 2122, 'babbling': 2123, 'overwrought': 2124, 'pseudosatanic': 2125, 'gibberish': 2126, 'corny': 2127, 'teen': 2128, 'goth': 2129, 'blush': 2130, 'olde': 2131, 'english': 2132, 'latin': 2133, 'becomes': 2134, 'forgettable': 2135, 'constantly': 2136, 'needle': 2137, 'alert': 2138, 'decipher': 2139, 'awsome': 2140, 'squib': 2141, 'constantine': 2142, 'intensity': 2143, 'motivation': 2144, 'nutbag': 2145, 'stephen': 2146, 'mchattie': 2147, 'lance': 2148, 'hendrikson': 2149, 'raging': 2150, 'cheekbone': 2151, 'investment': 2152, 'empowerment': 2153, 'ben': 2154, 'affleck': 2155, 'leaving': 2156, 'wifetobe': 2157, 'knocked': 2158, 'dumb': 2159, 'removing': 2160, 'miserable': 2161, 'mature': 2162, 'cbr': 2163, 'preferably': 2164, 'ripped': 2165, 'medium': 2166, 'composed': 2167, 'gerardo': 2168, 'darn': 2169, 'scream': 2170, 'passed': 2171, 'dramatic': 2172, 'aside': 2173, 'moviemaking': 2174, 'adhesive': 2175, 'collective': 2176, 'concerning': 2177, 'defeat': 2178, 'purpose': 2179, 'phenomenal': 2180, 'opinion': 2181, 'includes': 2182, 'shatner': 2183, 'nimoy': 2184, 'washed': 2185, 'tacky': 2186, 'spock': 2187, 'rescue': 2188, 'kirk': 2189, 'jet': 2190, 'pack': 2191, 'mountain': 2192, 'purcashed': 2193, 'gorman': 2194, 'bechard': 2195, 'homework': 2196, 'characterage': 2197, 'appropriate': 2198, 'string': 2199, 'jiggle': 2200, 'encourage': 2201, 'inexpensive': 2202, 'lassie': 2203, 'politics': 2204, 'japanese': 2205, 'contacting': 2206, 'learned': 2207, 'lesson': 2208, 'online': 2209, 'owning': 2210, 'official': 2211, 'oem': 2212, 'restart': 2213, 'awkward': 2214, 'shenanigan': 2215, 'spy': 2216, 'kidnapped': 2217, 'nasty': 2218, 'foreign': 2219, 'random': 2220, 'taxidermist': 2221, 'bitpim': 2222, 'program': 2223, 'internetto': 2224, 'phonethe': 2225, 'sloppy': 2226, 'stereo': 2227, 'labute': 2228, 'brutal': 2229, 'violence': 2230, 'seperate': 2231, 'proceeding': 2232, 'fourth': 2233, 'success': 2234, 'depends': 2235, 'sydney': 2236, 'greenstreet': 2237, 'yardley': 2238, 'idiotsavant': 2239, 'goesthe': 2240, 'rendering': 2241, 'imperial': 2242, 'charismafree': 2243, 'lightly': 2244, 'against': 2245, 'magical': 2246, 'factor': 2247, 'etcits': 2248, 'reflected': 2249, 'belowpar': 2250, 'borrowed': 2251, 'roam': 2252, 'receptionsound': 2253, 'cheaply': 2254, 'relate': 2255, 'causing': 2256, 'reach': 2257, 'walk': 2258, 'relief': 2259, 'earphone': 2260, 'boy': 2261, 'merit': 2262, 'akin': 2263, 'el': 2264, 'judging': 2265, 'fumbling': 2266, 'hanky': 2267, 'male': 2268, 'alike': 2269, 'fliptop': 2270, 'wobbly': 2271, 'eventually': 2272, 'dirty': 2273, 'perabo': 2274, 'snap': 2275, 'personality': 2276, 'occur': 2277, 'applause': 2278, 'prelude': 2279, 'identify': 2280, 'steve': 2281, 'retarded': 2282, 'julian': 2283, 'fellowes': 2284, 'triumphed': 2285, 'option': 2286, 'suffered': 2287, 'cingulair': 2288, 'nicer': 2289, 'adventure': 2290, 'attractive': 2291, 'known': 2292, 'dad': 2293, 'grew': 2294, 'unconditional': 2295, 'aluminum': 2296, 'wellit': 2297, 'protected': 2298, 'handheld': 2299, 'sign': 2300, 'quit': 2301, 'accompanied': 2302, 'detachable': 2303, 'stranger': 2304, 'tender': 2305, 'sitcom': 2306, 'oriented': 2307, 'teenager': 2308, 'contstruct': 2309, 'hinge': 2310, 'exemplar': 2311, 'designer': 2312, 'welldesigned': 2313, 'competitor': 2314, 'wanting': 2315, 'fish': 2316, 'underwater': 2317, 'repeated': 2318, 'thousand': 2319, 'iam': 2320, 'unique': 2321, 'krussel': 2322, 'thinking': 2323, 'upload': 2324, 'inconspicuous': 2325, 'boot': 2326, 'hoursthe': 2327, 'thereplacement': 2328, 'scifis': 2329, 'scot': 2330, 'vandiver': 2331, 'concrete': 2332, 'knock': 2333, 'wood': 2334, 'okay': 2335, 'fair': 2336, 'critic': 2337, 'duethe': 2338, 'creature': 2339, 'waaay': 2340, 'converter': 2341, 'stopped': 2342, 'admins': 2343, 'amp': 2344, 'rice': 2345, 'sensitivity': 2346, 'treatment': 2347, 'deaf': 2348, 'provides': 2349, 'classy': 2350, 'apparently': 2351, 'regardless': 2352, 'precisely': 2353, 'mine': 2354, 'peaking': 2355, 'paper': 2356, 'columbo': 2357, 'whistle': 2358, 'fresh': 2359, 'beeping': 2360, 'dieing': 2361, 'latched': 2362, 'endearing': 2363, 'body': 2364, 'cute': 2365, 'assumed': 2366, 'hopefully': 2367, 'cox': 2368, 'win': 2369, 'allows': 2370, 'accessible': 2371, 'standard': 2372, 'technically': 2373, 'riz': 2374, 'ortolani': 2375, 'recurring': 2376, 'unaccompanied': 2377, 'vocal': 2378, 'distant': 2379, 'ca': 2380, 'fishnet': 2381, 'astonishingly': 2382, 'ham': 2383, 'fisted': 2384, 'chosen': 2385, 'tortured': 2386, 'blatant': 2387, 'propaganda': 2388, 'victor': 2389, 'mclaglen': 2390, 'donlevy': 2391, 'research': 2392, 'division': 2393, 'complained': 2394, 'outperform': 2395, 'china': 2396, 'remorse': 2397, 'samsungcrap': 2398, 'crappy': 2399, 'seeen': 2400, 'uncalled': 2401, 'cellular': 2402, 'bluetoooth': 2403, 'bethe': 2404, 'sunday': 2405, 'march': 2406, 'barking': 2407, 'accessory': 2408, 'manufacturer': 2409, 'unmoving': 2410, 'integrated': 2411, 'update': 2412, 'meredith': 2413, 'accolade': 2414, 'zero': 2415, 'movieit': 2416, 'elia': 2417, 'koteasjack': 2418, 'palance': 2419, 'angelina': 2420, 'nakedbilly': 2421, 'cameo': 2422, 'sven': 2423, 'ole': 2424, 'thorsen': 2425, 'rotating': 2426, 'applauded': 2427, 'plantronincs': 2428, 'continues': 2429, 'pretext': 2430, 'performed': 2431, 'muffled': 2432, 'incoming': 2433, 'severe': 2434, 'web': 2435, 'browsing': 2436, 'significantly': 2437, 'blew': 2438, 'plane': 2439, 'famous': 2440, 'filmmostly': 2441, 'groundbreaking': 2442, 'saggy': 2443, 'floppy': 2444, 'idiot': 2445, 'produce': 2446, 'glove': 2447, 'durable': 2448, 'accessoryone': 2449, 'agree': 2450, 'jessica': 2451, 'ryans': 2452, 'portrayed': 2453, 'schizophrenic': 2454, 'lifemy': 2455, 'affected': 2456, 'schoolers': 2457, 'cry': 2458, 'crowdpleaserthis': 2459, 'howeverthe': 2460, 'riingtones': 2461, 'repair': 2462, 'bitchy': 2463, 'bos': 2464, 'sim': 2465, 'vg': 2466, 'crawl': 2467, 'styling': 2468, 'exploit': 2469, 'financial': 2470, 'gain': 2471, 'flush': 2472, 'toilet': 2473, 'muddy': 2474, 'casing': 2475, 'wire': 2476, 'insert': 2477, 'glued': 2478, 'slid': 2479, 'starter': 2480, 'gloriously': 2481, 'accurate': 2482, 'raver': 2483, 'penny': 2484, 'uneasy': 2485, 'activate': 2486, 'gentletouch': 2487, 'tracking': 2488, 'unpleasant': 2489, 'oyvey': 2490, 'school': 2491, 'pile': 2492, 'round': 2493, 'extraordinary': 2494, 'existing': 2495, 'cd': 2496, 'louder': 2497, 'frequentyly': 2498, 'aired': 2499, 'dribble': 2500, 'contract': 2501, 'screamy': 2502, 'masculine': 2503, 'higher': 2504, 'sink': 2505, 'rocketed': 2506, 'destination': 2507, 'unknown': 2508, 'upstairs': 2509, 'basement': 2510, 'connected': 2511, 'user': 2512, 'joes': 2513, 'worthy': 2514, 'trap': 2515, 'syrupy': 2516, 'indulgent': 2517, 'reliability': 2518, 'freeze': 2519, 'frequently': 2520, 'transformed': 2521, 'organizational': 2522, 'capability': 2523, 'virtue': 2524, 'regrettable': 2525, 'attempting': 2526, 'artiness': 2527, 'nonexistent': 2528, 'reader': 2529, 'cutting': 2530, 'trust': 2531, 'ant': 2532, 'convention': 2533, 'trumbull': 2534, 'jessice': 2535, 'clothes': 2536, 'metro': 2537, 'schr': 2538, 'slider': 2539, 'premium': 2540, 'psyched': 2541, 'appointment': 2542, 'ericson': 2543, 'za': 2544, 'murky': 2545, 'related': 2546, 'aggravating': 2547, 'secondary': 2548, 'incomprehensible': 2549, 'primary': 2550, 'mystifying': 2551, 'near': 2552, 'sturdiness': 2553, 'happening': 2554, 'hypocrisy': 2555, 'timeless': 2556, 'kudos': 2557, 'lesserknown': 2558, 'superintelligent': 2559, 'recognizes': 2560, 'smack': 2561, 'showthese': 2562, 'consumer': 2563, 'texas': 2564, 'ten': 2565, 'veteran': 2566, 'nostalgia': 2567, 'trip': 2568, 'drivng': 2569, 'structure': 2570, 'tightly': 2571, 'vitally': 2572, 'occurs': 2573, 'content': 2574, 'fill': 2575, 'superlative': 2576, 'require': 2577, 'puzzlesolving': 2578, 'punch': 2579, 'insane': 2580, 'unlockable': 2581, 'aye': 2582, 'doomed': 2583, 'conception': 2584, 'minor': 2585, 'nonsequel': 2586, 'pgrated': 2587, 'confirm': 2588, 'generic': 2589, 'exaggerating': 2590, 'trailer': 2591, 'carrell': 2592, 'costars': 2593, 'fare': 2594, 'freeman': 2595, 'helm': 2596, 'animal': 2597, 'integration': 2598, 'bluegreenscreen': 2599, 'translate': 2600, 'succeeds': 2601, 'meagre': 2602, 'lesser': 2603, 'cancan': 2604, 'boast': 2605, 'cutest': 2606, 'leading': 2607, 'headoverheels': 2608, 'insipid': 2609, 'cause': 2610, 'heche': 2611, 'sam': 2612, 'shepard': 2613, 'gung': 2614, 'ho': 2615, 'marine': 2616, 'sobering': 2617, 'sat': 2618, 'riveted': 2619, 'resounding': 2620, 'hank': 2621, 'fingernail': 2622, 'chalkboard': 2623, 'unnecessary': 2624, 'trainroller': 2625, 'coaster': 2626, 'grate': 2627, 'nerve': 2628, 'improved': 2629, 'improvisation': 2630, 'worry': 2631, 'delivering': 2632, 'surroundings': 2633, 'crackle': 2634, 'youthful': 2635, 'concentrate': 2636, 'meander': 2637, 'builder': 2638, 'cross': 2639, 'g': 2640, 'noncliche': 2641, 'predict': 2642, 'verbatim': 2643, 'selection': 2644, 'gross': 2645, 'chill': 2646, 'nevsky': 2647, 'whoever': 2648, 'lived': 2649, 'planned': 2650, 'dodge': 2651, 'stratus': 2652, 'maker': 2653, 'restrained': 2654, 'québec': 2655, 'hardly': 2656, 'toon': 2657, 'vibe': 2658, 'delivered': 2659, 'underrated': 2660, 'steamboat': 2661, 'willie': 2662, 'amazingly': 2663, 'understatement': 2664, 'phantasm': 2665, 'definitly': 2666, 'p': 2667, 'blown': 2668, 'expecting': 2669, 'hbo': 2670, 'described': 2671, 'inexcusable': 2672, 'carrier': 2673, 'finger': 2674, 'center': 2675, 'waterproof': 2676, 'resolution': 2677, 'garfield': 2678, 'ann': 2679, 'revere': 2680, 'lilli': 2681, 'plmer': 2682, 'william': 2683, 'conrad': 2684, 'leeand': 2685, 'cinematographer': 2686, 'screenjames': 2687, 'wong': 2688, 'howe': 2689, 'chargelife': 2690, 'excessively': 2691, 'phony': 2692, 'contrived': 2693, 'sit': 2694, 'keeping': 2695, 'bailey': 2696, 'eiko': 2697, 'ishioka': 2698, 'dracula': 2699, 'ineptly': 2700, 'stereotypically': 2701, 'cheesiness': 2702, 'unethical': 2703, 'nc': 2704, 'surefire': 2705, 'gx': 2706, 'mollusk': 2707, 'riot': 2708, 'hugo': 2709, 'weaving': 2710, 'sexobsessed': 2711, 'gay': 2712, 'estate': 2713, 'salesman': 2714, 'client': 2715, 'tryst': 2716, 'flaming': 2717, 'darren': 2718, 'hollander': 2719, 'hey': 2720, 'pleasantly': 2721, 'suprised': 2722, 'evidently': 2723, 'limited': 2724, 'widmark': 2725, 'unintentionally': 2726, 'comical': 2727, 'pitch': 2728, 'forgery': 2729, 'abound': 2730, 'promptly': 2731, 'condescends': 2732, 'winner': 2733, 'greatespecially': 2734, 'exercise': 2735, 'build': 2736, 'unlike': 2737, 'potted': 2738, 'plant': 2739, 'tolerate': 2740, 'political': 2741, 'incorrectness': 2742, 'artistic': 2743, 'suspension': 2744, 'disbelief': 2745, 'slavic': 2746, 'according': 2747, 'applifies': 2748, 'idyllic': 2749, 'dissapointing': 2750, 'raw': 2751, 'sublimely': 2752, 'sliding': 2753, 'pant': 2754, 'thin': 2755, 'hat': 2756, 'specially': 2757, 'excrutiatingly': 2758, 'act': 2759, 'earth': 2760, 'hoping': 2761, 'sold': 2762, 'northern': 2763, 'positive': 2764, 'community': 2765, 'represents': 2766, 'subject': 2767, 'allot': 2768, 'clearer': 2769, 'shipment': 2770, 'powerful': 2771, 'exploration': 2772, 'thoughtprovoking': 2773, 'followed': 2774, 'portrait': 2775, 'excruciatingly': 2776, 'unacceptable': 2777, 'realized': 2778, 'closed': 2779, 'de': 2780, 'generates': 2781, 'austere': 2782, 'backdrop': 2783, 'shattered': 2784, 'recover': 2785, 'apartment': 2786, 'boringpointless': 2787, 'sole': 2788, 'bright': 2789, 'spot': 2790, 'superbad': 2791, 'interim': 2792, 'accessable': 2793, 'portable': 2794, 'pillow': 2795, 'girlfriendboyfriend': 2796, 'estevezs': 2797, 'debut': 2798, 'estevez': 2799, 'suggest': 2800, 'surf': 2801, 'wave': 2802, 'deep': 2803, 'impact': 2804, 'armageddon': 2805, 'manna': 2806, 'jennifer': 2807, 'rubin': 2808, 'harris': 2809, 'nervous': 2810, 'starlet': 2811, 'strange': 2812, 'event': 2813, 'relaxing': 2814, 'late': 2815, 'qwerty': 2816, 'sin': 2817, 'industrial': 2818, 'sweetest': 2819, 'misleading': 2820, 'monica': 2821, 'bellucci': 2822, 'jason': 2823, 'connery': 2824, 'moved': 2825, 'monolog': 2826, 'candle': 2827, 'outhe': 2828, 'sphere': 2829, 'jx': 2830, 'shameful': 2831, 'broken': 2832, 'crash': 2833, 'provokes': 2834, 'teach': 2835, 'prejudice': 2836, 'tracfone': 2837, 'attempted': 2838, 'truth': 2839, 'reconciliation': 2840, 'continue': 2841, 'periodically': 2842, 'somehow': 2843, 'thru': 2844, 'handset': 2845, 'gone': 2846, 'ergonomic': 2847, 'theory': 2848, 'michael': 2849, 'ironside': 2850, 'irritating': 2851, 'spec': 2852, 'entertainment': 2853, 'managementoh': 2854, 'activesync': 2855, 'optimal': 2856, 'synchronization': 2857, 'agreed': 2858, 'wornout': 2859, 'bottowm': 2860, 'lineanother': 2861, 'gimmick': 2862, 'um': 2863, 'oldfashioned': 2864, 'tuneful': 2865, 'interview': 2866, 'vampire': 2867, 'lestat': 2868, 'stuart': 2869, 'townsend': 2870, 'cruise': 2871, 'cheerless': 2872, 'heist': 2873, 'characterisation': 2874, 'underbite': 2875, 'stoic': 2876, 'emoting': 2877, 'chow': 2878, 'yun': 2879, 'tomorrow': 2880, 'abandoned': 2881, 'factory': 2882, 'executed': 2883, 'flying': 2884, 'judo': 2885, 'roll': 2886, 'la': 2887, 'woo': 2888, 'dwight': 2889, 'schultz': 2890, 'barcelona': 2891, 'famed': 2892, 'gaudi': 2893, 'tower': 2894, 'ideal': 2895, 'whose': 2896, 'sensitive': 2897, 'haul': 2898, 'hybrid': 2899, 'palmtopcameracellphone': 2900, 'excels': 2901, 'standout': 2902, 'startac': 2903, 'regretted': 2904, 'unneeded': 2905, 'controversy': 2906, 'usefulness': 2907, 'blah': 2908, 'thomerson': 2909, 'attacked': 2910, 'protective': 2911, 'strip': 2912, 'destroying': 2913, 'pap': 2914, 'screened': 2915, 'afternoon': 2916, 'punish': 2917, 'unemployed': 2918, 'caused': 2919, 'aailiyah': 2920, 'akasha': 2921, 'entrance': 2922, 'mini': 2923, 'trunk': 2924, 'carried': 2925, 'hitch': 2926, 'achille': 2927, 'philippa': 2928, 'sing': 2929, 'giovanni': 2930, 'describes': 2931, 'layer': 2932, 'jack': 2933, 'disapointing': 2934, 'bigbudget': 2935, 'click': 2936, 'mechanism': 2937, 'seperated': 2938, 'mere': 2939, 'ft': 2940, 'excessive': 2941, 'garbled': 2942, 'rickman': 2943, 'stowe': 2944, 'hilt': 2945, 'childrens': 2946, 'subversive': 2947, 'tract': 2948, 'lifetime': 2949, 'sell': 2950, 'musthave': 2951, 'walkman': 2952, 'virgin': 2953, 'originality': 2954, 'freshness': 2955, 'combination': 2956, 'replaced': 2957, 'btv': 2958, 'routine': 2959, 'factbased': 2960, 'simplifying': 2961, 'brevity': 2962, 'fulfilling': 2963, 'armband': 2964, 'rita': 2965, 'hayworth': 2966, 'pedestal': 2967, 'damian': 2968, 'versatile': 2969, 'stewart': 2970, 'climax': 2971, 'embassy': 2972, 'brooding': 2973, 'menace': 2974, 'lowbudget': 2975, 'prompt': 2976, 'format': 2977, 'miniseries': 2978, 'baaaaaad': 2979, 'goremeister': 2980, 'lucio': 2981, 'subgenre': 2982, 'steer': 2983, 'replacementr': 2984, 'pen': 2985, 'threepack': 2986, 'saved': 2987, 'alot': 2988, 'ac': 2989, 'juicehighy': 2990, 'surely': 2991, 'coherent': 2992, 'obliged': 2993, 'throwback': 2994, 'student': 2995, 'abroad': 2996, 'interacting': 2997, 'nationality': 2998, 'circumstance': 2999, 'slightly': 3000, 'unrecommended': 3001, 'mindbendingly': 3002, 'passion': 3003, 'screenplay': 3004, 'postproduction': 3005, 'unacceptableunless': 3006, 'ebay': 3007, 'flipphones': 3008, 'garbo': 3009, 'bat': 3010, 'netflix': 3011, 'speakerphone': 3012, 'headband': 3013, 'iriver': 3014, 'spinn': 3015, 'asleep': 3016, 'mouth': 3017, 'pulling': 3018, 'stink': 3019, 'spoil': 3020, 'distorted': 3021, 'damn': 3022, 'girlfriend': 3023, 'improve': 3024, 'leak': 3025, 'shiny': 3026, 'assistant': 3027, 'bmw': 3028, 'hearing': 3029, 'windresistant': 3030, 'duris': 3031, 'nonlinear': 3032, 'narration': 3033, 'thus': 3034, 'flashback': 3035, 'articulated': 3036, 'lense': 3037, 'covered': 3038, 'superfast': 3039, 'immediately': 3040, 'toneoverall': 3041, 'indictment': 3042, 'justice': 3043, 'system': 3044, 'surprise': 3045, 'woven': 3046, 'splendid': 3047, 'blandly': 3048, 'edward': 3049, 'chodorov': 3050, 'negulesco': 3051, 'address': 3052, 'rebootsoverall': 3053, 'blist': 3054, 'horrorsuspense': 3055, 'absolutel': 3056, 'wirefly': 3057, 'stari': 3058, 'cingularatt': 3059, 'inform': 3060, 'practice': 3061, 'badwellits': 3062, 'creak': 3063, 'floor': 3064, 'shakespears': 3065, 'lyric': 3066, 'wordofmouth': 3067, 'promote': 3068, 'cutie': 3069, 'designed': 3070, 'amazingstylized': 3071, 'cheapy': 3072, 'lower': 3073, 'equivalent': 3074, 'dickens': 3075, 'carol': 3076, 'sensibility': 3077, 'starring': 3078, 'jaclyn': 3079, 'smith': 3080, 'campy': 3081, 'foreigner': 3082, 'trythe': 3083, 'engineered': 3084, 'genre': 3085, 'abovepretty': 3086, 'integral': 3087, 'helping': 3088, 'himself': 3089, 'legendary': 3090, 'biographical': 3091, 'musician': 3092, 'ironically': 3093, 'secondly': 3094, 'perfected': 3095, 'chase': 3096, 'pandering': 3097, 'sabotage': 3098, 'certain': 3099, 'rumble': 3100, 'desperately': 3101, 'depending': 3102, 'logic': 3103, 'unremarkable': 3104, 'author': 3105, 'livingworking': 3106, 'abstruse': 3107, 'reenactment': 3108, 'emotionally': 3109, 'adrift': 3110, 'stagy': 3111, 'sits': 3112, 'soldier': 3113, 'masculinity': 3114, 'pledge': 3115, 'hairsplitting': 3116, 'purity': 3117, 'admiration': 3118, 'sword': 3119, 'kill': 3120, 'momentum': 3121, 'quicker': 3122, 'resume': 3123, 'amateurish': 3124, 'fascinated': 3125, 'inconsistency': 3126, 'horrid': 3127, 'ballet': 3128, 'repertory': 3129, 'woa': 3130, 'sappiest': 3131, 'unwatchable': 3132, 'filmography': 3133, 'chance': 3134, 'intention': 3135, 'themeat': 3136, 'wouldbe': 3137, 'undertone': 3138, 'fifty': 3139, 'existential': 3140, 'worldweariness': 3141, 'ought': 3142, 'regrettably': 3143, 'expression': 3144, 'celebration': 3145, 'patriotism': 3146, 'underline': 3147, 'allison': 3148, 'cinematographyif': 3149, 'thatsucked': 3150, 'concert': 3151, 'ridiculousness': 3152, 'angry': 3153, 'spoilers': 3154, 'surface': 3155, 'stateoftheart': 3156, 'conceptually': 3157, 'everybody': 3158, 'fantasy': 3159, 'andor': 3160, 'sour': 3161, 'actingwise': 3162, 'considered': 3163, 'understood': 3164, 'identified': 3165, 'noircrimedrama': 3166, 'belmondo': 3167, 'lino': 3168, 'ventura': 3169, 'detailing': 3170, 'loyalty': 3171, 'treachery': 3172, 'melville': 3173, 'manages': 3174, 'transcend': 3175, 'limitation': 3176, 'indie': 3177, 'continually': 3178, 'subverting': 3179, 'emerge': 3180, 'intense': 3181, 'crocdodile': 3182, 'believed': 3183, 'crocs': 3184, 'swamp': 3185, 'christopher': 3186, 'eccleston': 3187, 'tardis': 3188, 'continuation': 3189, 'succeeded': 3190, 'heres': 3191, 'pied': 3192, 'witticism': 3193, 'bob': 3194, 'rise': 3195, 'finale': 3196, 'kieslowski': 3197, 'amaze': 3198, 'colour': 3199, 'flag': 3200, 'survivor': 3201, 'ferry': 3202, 'valentine': 3203, 'judge': 3204, 'solidifying': 3205, 'happiness': 3206, 'dealt': 3207, 'wrap': 3208, 'anythinga': 3209, 'vomited': 3210, 'roth': 3211, 'pearl': 3212, 'awarded': 3213, 'eloquently': 3214, 'francis': 3215, 'ford': 3216, 'gradually': 3217, 'develop': 3218, 'nicolas': 3219, 'roeg': 3220, 'wih': 3221, 'translating': 3222, 'strives': 3223, 'greatness': 3224, 'muddled': 3225, 'disparate': 3226, 'accurately': 3227, 'defined': 3228, 'majority': 3229, 'further': 3230, 'hide': 3231, 'transmit': 3232, 'planning': 3233, 'prepared': 3234, 'ordeal': 3235, 'progress': 3236, 'anguish': 3237, 'recieve': 3238, 'dustin': 3239, 'hoffman': 3240, 'bose': 3241, 'cancelling': 3242, 'nyc': 3243, 'commuter': 3244, 'refused': 3245, 'upgrade': 3246, 'discount': 3247, 'breakage': 3248, 'unacceptible': 3249, 'sanyo': 3250, 'survived': 3251, 'blacktop': 3252, 'losing': 3253, 'yourself': 3254, 'landline': 3255, 'camp': 3256, 'possesed': 3257, 'nevertheless': 3258, 'stable': 3259, 'highlight': 3260, 'fundamental': 3261, 'legal': 3262, 'guilt': 3263, 'innocence': 3264, 'court': 3265, 'onid': 3266, 'avoiding': 3267, 'ta': 3268, 'slimy': 3269, 'drooling': 3270, 'teeth': 3271, 'fest': 3272, 'spoiled': 3273, 'brat': 3274, 'babysitting': 3275, 'europe': 3276, 'asia': 3277, 'linking': 3278, 'curve': 3279, 'travled': 3280, 'swivel': 3281, 'consolation': 3282, 'matthew': 3283, 'wrotedirected': 3284, 'monster': 3285, 'grim': 3286, 'pace': 3287, 'pushed': 3288, 'chanceit': 3289, 'brother': 3290, 'thiswhen': 3291, 'ryan': 3292, 'imitation': 3293, 'individual': 3294, 'posted': 3295, 'detailed': 3296, 'grey': 3297, 'exciting': 3298, 'compliment': 3299, 'entertained': 3300, 'wedding': 3301, 'join': 3302, 'revenge': 3303, 'boogeyman': 3304, 'zombiez': 3305, 'hellish': 3306, 'trinity': 3307, 'mode': 3308, 'weaker': 3309, 'charismatic': 3310, 'established': 3311, 'zombiestudents': 3312, 'necklace': 3313, 'containing': 3314, 'meteorite': 3315, 'emperor': 3316, 'spend': 3317, 'gifted': 3318, 'tired': 3319, 'thick': 3320, 'inexperience': 3321, 'meant': 3322, 'horrified': 3323, 'sympathetic': 3324, 'major': 3325, 'destroy': 3326, 'latifas': 3327, 'longwearing': 3328, 'condition': 3329, 'potentially': 3330, 'fry': 3331, 'speaking': 3332, 'unbearably': 3333, 'kitchy': 3334, 'vivian': 3335, 'schilling': 3336, 'snow': 3337, 'debit': 3338, 'omit': 3339, 'poignant': 3340, 'kris': 3341, 'kristoffersen': 3342, 'difference': 3343, 'rubbish': 3344, 'nonresearched': 3345, 'fond': 3346, 'magnetic': 3347, 'strap': 3348, 'confuses': 3349, 'nano': 3350, 'itmy': 3351, 'dissapointed': 3352, 'paolo': 3353, 'sorrentino': 3354, 'tony': 3355, 'unforgettable': 3356, 'pic': 3357, 'largely': 3358, 'sean': 3359, 'connerys': 3360, 'noble': 3361, 'brigand': 3362, 'candace': 3363, 'bergen': 3364, 'feisty': 3365, 'heroine': 3366, 'wily': 3367, 'hay': 3368, 'kanalys': 3369, 'spiffy': 3370, 'radiant': 3371, 'cando': 3372, 'lieutenant': 3373, 'roosevelt': 3374, 'stick': 3375, 'shifting': 3376, 'bubbling': 3377, 'peeling': 3378, 'scratch': 3379, 'nothingi': 3380, 'droid': 3381, 'file': 3382, 'browser': 3383, 'needshandsfree': 3384, 'functional': 3385, 'coupon': 3386, 'dualpurpose': 3387, 'lifeoh': 3388, 'gore': 3389, 'bulky': 3390, 'medical': 3391, 'terminology': 3392, 'iffy': 3393, 'insulin': 3394, 'dependant': 3395, 'diabetic': 3396, 'instance': 3397, 'mesmerising': 3398, 'ericsson': 3399, 'shield': 3400, 'incrediable': 3401, 'patient': 3402, 'thoughtsgabriels': 3403, 'danceall': 3404, 'intangible': 3405, 'leap': 3406, 'viewer': 3407, 'grasp': 3408, 'instant': 3409, 'catchy': 3410, 'sent': 3411, 'eyepleasing': 3412, 'unrealistic': 3413, 'prettier': 3414, 'answer': 3415, 'connect': 3416, 'miniusb': 3417, 'freeway': 3418, 'steep': 3419, 'suggests': 3420, 'brings': 3421, 'served': 3422, 'inappropriate': 3423, 'smiling': 3424, 'keira': 3425, 'knightley': 3426, 'prone': 3427, 'stream': 3428, 'submerged': 3429, 'sad': 3430, 'auto': 3431, 'reverse': 3432, 'tape': 3433, 'tungsten': 3434, 'version': 3435, 'once': 3436, 'titta': 3437, 'di': 3438, 'girolamo': 3439, 'vision': 3440, 'coach': 3441, 'sa': 3442, 'bluetoothmotorola': 3443, 'error': 3444, 'commented': 3445, 'garage': 3446, 'glassesthe': 3447, 'facial': 3448, 'configuration': 3449, 'mentioned': 3450, 'menu': 3451, 'navigate': 3452, 'recessed': 3453, 'custer': 3454, 'magnificent': 3455, 'photographycinematography': 3456, 'arrival': 3457, 'fraction': 3458, 'subtitle': 3459, 'aversion': 3460, 'therapy': 3461, 'initially': 3462, 'local': 3463, 'buffalo': 3464, 'intrigued': 3465, 'middleaged': 3466, 'upper': 3467, 'class': 3468, 'uptight': 3469, 'ringer': 3470, 'groove': 3471, 'antithesis': 3472, 'traffic': 3473, 'pan': 3474, 'renowned': 3475, 'france': 3476, 'marion': 3477, 'hasnt': 3478, 'shutdown': 3479, 'primal': 3480, 'impulse': 3481, 'selfpreservation': 3482, 'overdue': 3483, 'buck': 3484, 'excerpt': 3485, 'fleshed': 3486, 'grime': 3487, 'blake': 3488, 'deliver': 3489, 'sharply': 3490, 'scripted': 3491, 'deadpan': 3492, 'tongue': 3493, 'cheek': 3494, 'simpler': 3495, 'capacity': 3496, 'confortable': 3497, 'graphics': 3498, 'ordering': 3499, 'loudest': 3500, 'authentic': 3501, 'shine': 3502, 'distinction': 3503, 'artless': 3504, 'endlessly': 3505, 'ugliest': 3506, 'disapoinment': 3507, 'motor': 3508, 'voltage': 3509, 'humming': 3510, 'equipment': 3511, 'comparablypriced': 3512, 'offering': 3513, 'delightful': 3514, 'dr': 3515, 'seuss': 3516, 'brilliantly': 3517, 'animated': 3518, 'upas': 3519, 'finest': 3520, 'academy': 3521, 'honest': 3522, 'foolish': 3523, 'painfully': 3524, 'dreary': 3525, 'timewaster': 3526, 'linked': 3527, 'ticker': 3528, 'loudspeaker': 3529, 'bumper': 3530, 'colleague': 3531, 'receptiona': 3532, 'despised': 3533, 'nightmare': 3534, 'warranty': 3535, 'reoccurebottom': 3536, 'somewhere': 3537, 'frog': 3538, 'notch': 3539, 'faceplate': 3540, 'behing': 3541, 'comfortible': 3542, 'pain': 3543, 'complexity': 3544, 'task': 3545, 'challenge': 3546, 'facing': 3547, 'megapixels': 3548, 'render': 3549, 'image': 3550, 'photo': 3551, 'ad': 3552, 'friendly': 3553, 'drift': 3554, 'brokeni': 3555, 'smoking': 3556, 'continuously': 3557, 'bertolucci': 3558, 'jay': 3559, 'adam': 3560, 'unfortunate': 3561, 'evokes': 3562, 'calendar': 3563, 'sync': 3564, 'proudly': 3565, 'classical': 3566, 'wb': 3567, 'track': 3568, 'command': 3569, 'contributing': 3570, 'alongside': 3571, 'olivia': 3572, 'havilland': 3573, 'bela': 3574, 'lugosi': 3575, 'extraneous': 3576, 'intoning': 3577, 'stanwycks': 3578, 'sketchy': 3579, 'wellwell': 3580, 'displeased': 3581, 'offend': 3582, 'nonetheless': 3583, 'rough': 3584, 'draft': 3585, 'shooting': 3586, 'completed': 3587, 'derivative': 3588, 'smallest': 3589, 'yearsgreat': 3590, 'cancellation': 3591, 'jerk': 3592, 'was': 3593, 'transmission': 3594, 'alarm': 3595, 'clock': 3596, 'protects': 3597, 'electronics': 3598, 'available': 3599, 'fm': 3600, 'transmitter': 3601, 'emptiness': 3602, 'antena': 3603, 'nicely': 3604, 'damage': 3605, 'loos': 3606, 'added': 3607, 'youtube': 3608, 'stinker': 3609, 'directtovideo': 3610, 'release': 3611, 'correctly': 3612, 'flop': 3613, 'sudden': 3614, 'exceeds': 3615, 'sight': 3616, 'lasted': 3617, 'loudglad': 3618, 'maintains': 3619, 'flawless': 3620, 'hatred': 3621, 'admitted': 3622, 'hopeless': 3623, 'everyday': 3624, 'fulfills': 3625, 'requirement': 3626, 'zillion': 3627, 'lately': 3628, 'bluetooths': 3629, 'listener': 3630, 'satisifed': 3631, 'wondered': 3632, 'shortlist': 3633, 'nine': 3634, 'inch': 3635, 'kitchen': 3636, 'counter': 3637, 'crackedi': 3638, 'laughing': 3639, 'rubberpetroleum': 3640, 'disappoint': 3641, 'infra': 3642, 'port': 3643, 'irda': 3644, 'don': 3645, 'randomly': 3646, 'locked': 3647, 'infuriating': 3648, 'debated': 3649, 'sack': 3650, 'trumpeter': 3651, 'falsely': 3652, 'murder': 3653, 'dwrongly': 3654, 'leopard': 3655, 'print': 3656, 'theatrical': 3657, 'everyones': 3658, 'terror': 3659, 'escalating': 3660, 'monstrous': 3661, 'consequence': 3662, 'halfway': 3663, 'embarrassed': 3664, 'howell': 3665, 'street': 3666, 'charlie': 3667, 'thorn': 3668, 'abhor': 3669, 'reaching': 3670, 'bottom': 3671, 'threw': 3672, 'tying': 3673, 'flowed': 3674, 'malebonding': 3675, 'hoot': 3676, 'fooled': 3677, 'close': 3678, 'acceptable': 3679, 'confidence': 3680, 'methe': 3681, 'breeder': 3682, 'avoided': 3683, 'ebola': 3684, 'virus': 3685, 'iron': 3686, 'usable': 3687, 'realworld': 3688, 'useful': 3689, 'neat': 3690, 'sweet': 3691, 'linksys': 3692, 'refurb': 3693, 'crack': 3694, 'politically': 3695, 'correct': 3696, 'smudged': 3697, 'earbugs': 3698, 'fix': 3699, 'remarkable': 3700, 'animation': 3701, 'hoped': 3702, 'possibility': 3703, 'double': 3704, 'booking': 3705, 'operates': 3706, 'checked': 3707, 'tick': 3708, 'buyerbe': 3709, 'careful': 3710, 'florida': 3711, 'compared': 3712, 'telly': 3713, 'savalas': 3714, 'boyle': 3715, 'sheer': 3716, 'tedium': 3717, 'melodrama': 3718, 'sinking': 3719, 'lots': 3720, 'atrocious': 3721, 'impossible': 3722, 'establish': 3723, 'subplot': 3724, 'follows': 3725, 'band': 3726, 'latterday': 3727, 'mansonites': 3728, 'reporter': 3729, 'anniversary': 3730, 'indication': 3731, 'meld': 3732, 'volatile': 3733, 'temperament': 3734, 'seamless': 3735, 'union': 3736, 'creativity': 3737, 'powerhouse': 3738, 'fascination': 3739, 'celebrity': 3740, 'interpretation': 3741, 'fame': 3742, 'forgotten': 3743, 'kevin': 3744, 'spacey': 3745, 'verbal': 3746, 'tsunami': 3747, 'buddy': 3748, 'ackerman': 3749, 'scripting': 3750, 'unmatched': 3751, 'younger': 3752, 'galley': 3753, 'forwarded': 3754, 'horrendously': 3755, 'buildup': 3756, 'slightest': 3757, 'captain': 3758, 'howdy': 3759, 'semi': 3760, 'truck': 3761, 'linda': 3762, 'cardellini': 3763, 'shes': 3764, 'poised': 3765, 'dee': 3766, 'snider': 3767, 'sophisticated': 3768, 'thrillerhorror': 3769, 'miserably': 3770, 'unoriginal': 3771, 'cinematic': 3772, 'captured': 3773, 'celluloid': 3774, 'stayed': 3775, 'supernatural': 3776, 'zombie': 3777, 'consistent': 3778, 'thread': 3779, 'leni': 3780, 'parker': 3781, 'anita': 3782, 'laselva': 3783, 'taelons': 3784, 'idealogical': 3785, 'atmosphere': 3786, 'explains': 3787, 'sinister': 3788, 'origin': 3789, 'insomniac': 3790, 'heartwarming': 3791, 'chasing': 3792, 'nurse': 3793, 'unpredictability': 3794, 'negatively': 3795, 'prime': 3796, 'bougth': 3797, 'lc': 3798, 'yell': 3799, 'tough': 3800, 'dignity': 3801, 'shocking': 3802, 'delete': 3803, 'struggle': 3804, 'directly': 3805, 'increase': 3806, 'phonemy': 3807, 'skilled': 3808, 'title': 3809, 'ngage': 3810, 'earbuds': 3811, 'disconnected': 3812, 'malta': 3813, 'dry': 3814, 'barren': 3815, 'hockey': 3816, 'defensemen': 3817, 'goalie': 3818, 'diving': 3819, 'wide': 3820, 'net': 3821, 'bakery': 3822, 'waitress': 3823, 'superficial': 3824, 'stagey': 3825, 'farce': 3826, 'pyromaniac': 3827, 'waylaid': 3828, 'switched': 3829, 'yawn': 3830, 'educational': 3831, 'barney': 3832, 'duper': 3833, 'babie': 3834, 'bop': 3835, 'storm': 3836, 'trooper': 3837, 'list': 3838, 'razor': 3839, 'noted': 3840, 'happens': 3841, 'pleasant': 3842, 'voyage': 3843, 'selfdiscovery': 3844, 'cassette': 3845}\n"
     ]
    }
   ],
   "source": [
    "#Vectorize X_train and X_test to 2D tensor:\n",
    "\n",
    "top_words = embedding_matrix.shape[0]\n",
    "mxlen = 50\n",
    "nb_classes = 3\n",
    " \n",
    "tokenizer = Tokenizer(num_words=top_words)\n",
    "tokenizer.fit_on_texts(X_train)\n",
    "sequences_train = tokenizer.texts_to_sequences(X_train)\n",
    "sequences_test = tokenizer.texts_to_sequences(X_test)\n",
    "sequences_val = tokenizer.texts_to_sequences(X_val)\n",
    " \n",
    "word_index = tokenizer.word_index\n",
    "print('Found %s unique tokens.' % len(word_index))\n",
    "print(word_index)\n",
    " \n",
    "X_train = sequence.pad_sequences(sequences_train, maxlen=mxlen)\n",
    "X_test = sequence.pad_sequences(sequences_test, maxlen=mxlen)\n",
    "X_val = sequence.pad_sequences(sequences_val, maxlen=mxlen)\n",
    " \n",
    "y_train = np_utils.to_categorical(y_train, nb_classes)\n",
    "y_test = np_utils.to_categorical(y_test, nb_classes)\n",
    "y_val = np_utils.to_categorical(y_val, nb_classes)"
   ]
  },
  {
   "cell_type": "code",
   "execution_count": 0,
   "metadata": {
    "colab": {
     "base_uri": "https://localhost:8080/",
     "height": 272
    },
    "colab_type": "code",
    "executionInfo": {
     "elapsed": 5331,
     "status": "ok",
     "timestamp": 1564964389664,
     "user": {
      "displayName": "Manish Kumar",
      "photoUrl": "",
      "userId": "14491006042092619867"
     },
     "user_tz": -330
    },
    "id": "aU6u48Zzsh28",
    "outputId": "bc6fd7bc-919b-4739-803c-4cea7b8b5d2e"
   },
   "outputs": [
    {
     "name": "stdout",
     "output_type": "stream",
     "text": [
      "_________________________________________________________________\n",
      "Layer (type)                 Output Shape              Param #   \n",
      "=================================================================\n",
      "embedding_3 (Embedding)      (None, None, 100)         212313200 \n",
      "_________________________________________________________________\n",
      "lstm_3 (LSTM)                (None, 128)               117248    \n",
      "_________________________________________________________________\n",
      "dense_3 (Dense)              (None, 3)                 387       \n",
      "_________________________________________________________________\n",
      "activation_3 (Activation)    (None, 3)                 0         \n",
      "=================================================================\n",
      "Total params: 212,430,835\n",
      "Trainable params: 117,635\n",
      "Non-trainable params: 212,313,200\n",
      "_________________________________________________________________\n"
     ]
    }
   ],
   "source": [
    "#LONG SHORT-TERM MEMORY\n",
    "batch_size = 32\n",
    "nb_epoch = 50\n",
    " \n",
    "embedding_layer = Embedding(embedding_matrix.shape[0],\n",
    "                            embedding_matrix.shape[1],\n",
    "                            weights=[embedding_matrix],\n",
    "                            trainable=False)\n",
    " \n",
    "model = Sequential()\n",
    "model.add(embedding_layer)\n",
    "model.add(LSTM(128, recurrent_dropout=0.5, dropout=0.5))\n",
    "model.add(Dense(nb_classes))\n",
    "model.add(Activation('softmax'))\n",
    "model.summary()"
   ]
  },
  {
   "cell_type": "code",
   "execution_count": 0,
   "metadata": {
    "colab": {
     "base_uri": "https://localhost:8080/",
     "height": 1000
    },
    "colab_type": "code",
    "executionInfo": {
     "elapsed": 360294,
     "status": "ok",
     "timestamp": 1564964757423,
     "user": {
      "displayName": "Manish Kumar",
      "photoUrl": "",
      "userId": "14491006042092619867"
     },
     "user_tz": -330
    },
    "id": "yHoC1_JeIJS6",
    "outputId": "10cc2e4c-d348-4cf9-94c2-e253657e6361"
   },
   "outputs": [
    {
     "name": "stderr",
     "output_type": "stream",
     "text": [
      "/usr/local/lib/python3.6/dist-packages/ipykernel_launcher.py:2: UserWarning: The `nb_epoch` argument in `fit` has been renamed `epochs`.\n",
      "  \n"
     ]
    },
    {
     "name": "stdout",
     "output_type": "stream",
     "text": [
      "Train on 2831 samples, validate on 315 samples\n",
      "Epoch 1/50\n",
      "2831/2831 [==============================] - 8s 3ms/step - loss: 0.7657 - acc: 0.5175 - val_loss: 0.6850 - val_acc: 0.5429\n",
      "Epoch 2/50\n",
      "2831/2831 [==============================] - 7s 3ms/step - loss: 0.6670 - acc: 0.5839 - val_loss: 0.6395 - val_acc: 0.6190\n",
      "Epoch 3/50\n",
      "2831/2831 [==============================] - 7s 3ms/step - loss: 0.6488 - acc: 0.6164 - val_loss: 0.6378 - val_acc: 0.6349\n",
      "Epoch 4/50\n",
      "2831/2831 [==============================] - 7s 2ms/step - loss: 0.6217 - acc: 0.6545 - val_loss: 0.6030 - val_acc: 0.6667\n",
      "Epoch 5/50\n",
      "2831/2831 [==============================] - 7s 2ms/step - loss: 0.5939 - acc: 0.6888 - val_loss: 0.5852 - val_acc: 0.6730\n",
      "Epoch 6/50\n",
      "2831/2831 [==============================] - 7s 3ms/step - loss: 0.5751 - acc: 0.6966 - val_loss: 0.5651 - val_acc: 0.6762\n",
      "Epoch 7/50\n",
      "2831/2831 [==============================] - 7s 2ms/step - loss: 0.5572 - acc: 0.7132 - val_loss: 0.5296 - val_acc: 0.7333\n",
      "Epoch 8/50\n",
      "2831/2831 [==============================] - 7s 3ms/step - loss: 0.5174 - acc: 0.7573 - val_loss: 0.5026 - val_acc: 0.7556\n",
      "Epoch 9/50\n",
      "2831/2831 [==============================] - 7s 3ms/step - loss: 0.5188 - acc: 0.7481 - val_loss: 0.5033 - val_acc: 0.7460\n",
      "Epoch 10/50\n",
      "2831/2831 [==============================] - 7s 3ms/step - loss: 0.4753 - acc: 0.7817 - val_loss: 0.4687 - val_acc: 0.7651\n",
      "Epoch 11/50\n",
      "2831/2831 [==============================] - 7s 3ms/step - loss: 0.4690 - acc: 0.7877 - val_loss: 0.4504 - val_acc: 0.7841\n",
      "Epoch 12/50\n",
      "2831/2831 [==============================] - 8s 3ms/step - loss: 0.4583 - acc: 0.7870 - val_loss: 0.4305 - val_acc: 0.7873\n",
      "Epoch 13/50\n",
      "2831/2831 [==============================] - 7s 3ms/step - loss: 0.4349 - acc: 0.7994 - val_loss: 0.4251 - val_acc: 0.7905\n",
      "Epoch 14/50\n",
      "2831/2831 [==============================] - 7s 2ms/step - loss: 0.4109 - acc: 0.8170 - val_loss: 0.4160 - val_acc: 0.8032\n",
      "Epoch 15/50\n",
      "2831/2831 [==============================] - 7s 2ms/step - loss: 0.4013 - acc: 0.8209 - val_loss: 0.4155 - val_acc: 0.8032\n",
      "Epoch 16/50\n",
      "2831/2831 [==============================] - 7s 2ms/step - loss: 0.3909 - acc: 0.8290 - val_loss: 0.4320 - val_acc: 0.8063\n",
      "Epoch 17/50\n",
      "2831/2831 [==============================] - 7s 3ms/step - loss: 0.3749 - acc: 0.8407 - val_loss: 0.4060 - val_acc: 0.8222\n",
      "Epoch 18/50\n",
      "2831/2831 [==============================] - 7s 3ms/step - loss: 0.3534 - acc: 0.8559 - val_loss: 0.4056 - val_acc: 0.8317\n",
      "Epoch 19/50\n",
      "2831/2831 [==============================] - 8s 3ms/step - loss: 0.3556 - acc: 0.8492 - val_loss: 0.3681 - val_acc: 0.8508\n",
      "Epoch 20/50\n",
      "2831/2831 [==============================] - 7s 2ms/step - loss: 0.3314 - acc: 0.8559 - val_loss: 0.3810 - val_acc: 0.8349\n",
      "Epoch 21/50\n",
      "2831/2831 [==============================] - 7s 3ms/step - loss: 0.3368 - acc: 0.8601 - val_loss: 0.3930 - val_acc: 0.8222\n",
      "Epoch 22/50\n",
      "2831/2831 [==============================] - 7s 2ms/step - loss: 0.3261 - acc: 0.8608 - val_loss: 0.3793 - val_acc: 0.8286\n",
      "Epoch 23/50\n",
      "2831/2831 [==============================] - 7s 3ms/step - loss: 0.3159 - acc: 0.8686 - val_loss: 0.3779 - val_acc: 0.8508\n",
      "Epoch 24/50\n",
      "2831/2831 [==============================] - 7s 2ms/step - loss: 0.3094 - acc: 0.8668 - val_loss: 0.3832 - val_acc: 0.8349\n",
      "Epoch 25/50\n",
      "2831/2831 [==============================] - 7s 2ms/step - loss: 0.2991 - acc: 0.8739 - val_loss: 0.3533 - val_acc: 0.8698\n",
      "Epoch 26/50\n",
      "2831/2831 [==============================] - 7s 2ms/step - loss: 0.2785 - acc: 0.8912 - val_loss: 0.3785 - val_acc: 0.8540\n",
      "Epoch 27/50\n",
      "2831/2831 [==============================] - 7s 3ms/step - loss: 0.2841 - acc: 0.8778 - val_loss: 0.3580 - val_acc: 0.8413\n",
      "Epoch 28/50\n",
      "2831/2831 [==============================] - 7s 2ms/step - loss: 0.2860 - acc: 0.8781 - val_loss: 0.3542 - val_acc: 0.8635\n",
      "Epoch 29/50\n",
      "2831/2831 [==============================] - 7s 3ms/step - loss: 0.2736 - acc: 0.8820 - val_loss: 0.3553 - val_acc: 0.8413\n",
      "Epoch 30/50\n",
      "2831/2831 [==============================] - 7s 3ms/step - loss: 0.2613 - acc: 0.8951 - val_loss: 0.3666 - val_acc: 0.8571\n",
      "Epoch 31/50\n",
      "2831/2831 [==============================] - 7s 3ms/step - loss: 0.2669 - acc: 0.8916 - val_loss: 0.3715 - val_acc: 0.8667\n",
      "Epoch 32/50\n",
      "2831/2831 [==============================] - 7s 2ms/step - loss: 0.2470 - acc: 0.8958 - val_loss: 0.3787 - val_acc: 0.8635\n",
      "Epoch 33/50\n",
      "2831/2831 [==============================] - 7s 2ms/step - loss: 0.2422 - acc: 0.9082 - val_loss: 0.3517 - val_acc: 0.8635\n",
      "Epoch 34/50\n",
      "2831/2831 [==============================] - 7s 3ms/step - loss: 0.2643 - acc: 0.8873 - val_loss: 0.3685 - val_acc: 0.8571\n",
      "Epoch 35/50\n",
      "2831/2831 [==============================] - 8s 3ms/step - loss: 0.2274 - acc: 0.9046 - val_loss: 0.3593 - val_acc: 0.8762\n",
      "Epoch 36/50\n",
      "2831/2831 [==============================] - 7s 3ms/step - loss: 0.2427 - acc: 0.8990 - val_loss: 0.3575 - val_acc: 0.8476\n",
      "Epoch 37/50\n",
      "2831/2831 [==============================] - 7s 3ms/step - loss: 0.2343 - acc: 0.9018 - val_loss: 0.3849 - val_acc: 0.8413\n",
      "Epoch 38/50\n",
      "2831/2831 [==============================] - 7s 2ms/step - loss: 0.2291 - acc: 0.9043 - val_loss: 0.3604 - val_acc: 0.8444\n",
      "Epoch 39/50\n",
      "2831/2831 [==============================] - 7s 3ms/step - loss: 0.2251 - acc: 0.9043 - val_loss: 0.3472 - val_acc: 0.8603\n",
      "Epoch 40/50\n",
      "2831/2831 [==============================] - 7s 2ms/step - loss: 0.2217 - acc: 0.9106 - val_loss: 0.3485 - val_acc: 0.8635\n",
      "Epoch 41/50\n",
      "2831/2831 [==============================] - 7s 3ms/step - loss: 0.2146 - acc: 0.9149 - val_loss: 0.3551 - val_acc: 0.8571\n",
      "Epoch 42/50\n",
      "2831/2831 [==============================] - 7s 3ms/step - loss: 0.2232 - acc: 0.9103 - val_loss: 0.3407 - val_acc: 0.8571\n",
      "Epoch 43/50\n",
      "2831/2831 [==============================] - 7s 3ms/step - loss: 0.2030 - acc: 0.9152 - val_loss: 0.3357 - val_acc: 0.8667\n",
      "Epoch 44/50\n",
      "2831/2831 [==============================] - 7s 2ms/step - loss: 0.2154 - acc: 0.9188 - val_loss: 0.3163 - val_acc: 0.8730\n",
      "Epoch 45/50\n",
      "2831/2831 [==============================] - 7s 2ms/step - loss: 0.1954 - acc: 0.9223 - val_loss: 0.3205 - val_acc: 0.8857\n",
      "Epoch 46/50\n",
      "2831/2831 [==============================] - 7s 2ms/step - loss: 0.2134 - acc: 0.9089 - val_loss: 0.3326 - val_acc: 0.8794\n",
      "Epoch 47/50\n",
      "2831/2831 [==============================] - 8s 3ms/step - loss: 0.2136 - acc: 0.9128 - val_loss: 0.3706 - val_acc: 0.8730\n",
      "Epoch 48/50\n",
      "2831/2831 [==============================] - 7s 3ms/step - loss: 0.1966 - acc: 0.9219 - val_loss: 0.3587 - val_acc: 0.8698\n",
      "Epoch 49/50\n",
      "2831/2831 [==============================] - 7s 2ms/step - loss: 0.1974 - acc: 0.9223 - val_loss: 0.3776 - val_acc: 0.8635\n",
      "Epoch 50/50\n",
      "2831/2831 [==============================] - 7s 3ms/step - loss: 0.2086 - acc: 0.9128 - val_loss: 0.3505 - val_acc: 0.8762\n",
      "315/315 [==============================] - 0s 1ms/step\n",
      "Test Loss: 35.05%\n",
      "Test Accuracy: 87.62%\n"
     ]
    }
   ],
   "source": [
    "model.compile(optimizer='adam', loss='categorical_crossentropy', metrics=['accuracy'])\n",
    "rnn = model.fit(X_train, y_train, nb_epoch= nb_epoch, batch_size=batch_size, shuffle=True, validation_data=(X_val, y_val))\n",
    "score = model.evaluate(X_val, y_val)\n",
    "print(\"Test Loss: %.2f%%\" % (score[0]*100))\n",
    "print(\"Test Accuracy: %.2f%%\" % (score[1]*100))"
   ]
  },
  {
   "cell_type": "code",
   "execution_count": 0,
   "metadata": {
    "colab": {
     "base_uri": "https://localhost:8080/",
     "height": 779
    },
    "colab_type": "code",
    "executionInfo": {
     "elapsed": 1671,
     "status": "ok",
     "timestamp": 1564969360685,
     "user": {
      "displayName": "Manish Kumar",
      "photoUrl": "",
      "userId": "14491006042092619867"
     },
     "user_tz": -330
    },
    "id": "jAohdrg9OllM",
    "outputId": "8ebffb43-15ba-456a-def8-92f915cb360d"
   },
   "outputs": [
    {
     "data": {
      "image/png": "[encoded data removed]",
      "text/plain": [
       "<Figure size 576x432 with 1 Axes>"
      ]
     },
     "metadata": {
      "tags": []
     },
     "output_type": "display_data"
    },
    {
     "data": {
      "image/png": "[encoded data removed]",
      "text/plain": [
       "<Figure size 576x432 with 1 Axes>"
      ]
     },
     "metadata": {
      "tags": []
     },
     "output_type": "display_data"
    }
   ],
   "source": [
    "plt.figure(0)\n",
    "plt.plot(rnn.history['acc'],'r')\n",
    "plt.plot(rnn.history['val_acc'],'g')\n",
    "plt.xticks(np.arange(0, nb_epoch+1, nb_epoch/5))\n",
    "plt.rcParams['figure.figsize'] = (8, 6)\n",
    "plt.xlabel(\"Num of Epochs\")\n",
    "plt.ylabel(\"Accuracy\")\n",
    "plt.title(\"Training vs Validation Accuracy LSTM l=10, epochs=20\") # for max length = 10 and 20 epochs\n",
    "plt.legend(['train', 'validation'])\n",
    " \n",
    "plt.figure(1)\n",
    "plt.plot(rnn.history['loss'],'r')\n",
    "plt.plot(rnn.history['val_loss'],'g')\n",
    "plt.xticks(np.arange(0, nb_epoch+1, nb_epoch/5))\n",
    "plt.rcParams['figure.figsize'] = (8, 6)\n",
    "plt.xlabel(\"Num of Epochs\")\n",
    "plt.ylabel(\"Training vs Validation Loss LSTM l=10, epochs=20\") # for max length = 10 and 20 epochs\n",
    "plt.legend(['train', 'validation'])\n",
    "plt.show()"
   ]
  },
  {
   "cell_type": "code",
   "execution_count": 0,
   "metadata": {
    "colab": {
     "base_uri": "https://localhost:8080/",
     "height": 292
    },
    "colab_type": "code",
    "executionInfo": {
     "elapsed": 3076,
     "status": "ok",
     "timestamp": 1564966799576,
     "user": {
      "displayName": "Manish Kumar",
      "photoUrl": "",
      "userId": "14491006042092619867"
     },
     "user_tz": -330
    },
    "id": "akkIyYXyP3pS",
    "outputId": "9a0bf731-902d-4eaf-9d12-9c2f214d95d0"
   },
   "outputs": [
    {
     "name": "stdout",
     "output_type": "stream",
     "text": [
      "<wordcloud.wordcloud.WordCloud object at 0x7f363a805278>\n"
     ]
    },
    {
     "data": {
      "image/png": "[encoded data removed]",
      "text/plain": [
       "<Figure size 576x432 with 1 Axes>"
      ]
     },
     "metadata": {
      "tags": []
     },
     "output_type": "display_data"
    }
   ],
   "source": [
    "#Apply wordcloud\n",
    "from wordcloud import WordCloud\n",
    "from many_stop_words import get_stop_words\n",
    " \n",
    "stop_words = get_stop_words('pl')\n",
    " \n",
    "wordcloud = WordCloud(\n",
    "                    background_color='white',\n",
    "                    stopwords=stop_words,\n",
    "                    max_words=200,\n",
    "                    max_font_size=40,\n",
    "                    random_state=42\n",
    ").generate(str(data['Text']))\n",
    " \n",
    "print(wordcloud)\n",
    "fig = plt.figure(1)\n",
    "plt.imshow(wordcloud)\n",
    "plt.axis('off')\n",
    "plt.show()"
   ]
  }
 ],
 "metadata": {
  "accelerator": "GPU",
  "colab": {
   "collapsed_sections": [],
   "name": "Untitled1.ipynb",
   "provenance": [],
   "version": "0.3.2"
  },
  "kernelspec": {
   "display_name": "Python 3",
   "language": "python",
   "name": "python3"
  },
  "language_info": {
   "codemirror_mode": {
    "name": "ipython",
    "version": 3
   },
   "file_extension": ".py",
   "mimetype": "text/x-python",
   "name": "python",
   "nbconvert_exporter": "python",
   "pygments_lexer": "ipython3",
   "version": "3.6.2"
  }
 },
 "nbformat": 4,
 "nbformat_minor": 1
}
